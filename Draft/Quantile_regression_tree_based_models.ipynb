{
 "cells": [
  {
   "cell_type": "markdown",
   "metadata": {
    "colab_type": "text",
    "id": "view-in-github"
   },
   "source": [
    "<a href=\"https://colab.research.google.com/github/hoangdungnguyen/XVA-stage/blob/master/Quantile_regression_tree_based_test.ipynb\" target=\"_parent\"><img src=\"https://colab.research.google.com/assets/colab-badge.svg\" alt=\"Open In Colab\"/></a>"
   ]
  },
  {
   "cell_type": "code",
   "execution_count": 1,
   "metadata": {
    "colab": {
     "base_uri": "https://localhost:8080/",
     "height": 71
    },
    "colab_type": "code",
    "id": "fM6Lm4s4SA8B",
    "outputId": "ed79e646-2aa9-4110-cafe-ad0d61ae435f"
   },
   "outputs": [
    {
     "name": "stderr",
     "output_type": "stream",
     "text": [
      "/usr/local/lib/python3.6/dist-packages/statsmodels/tools/_testing.py:19: FutureWarning: pandas.util.testing is deprecated. Use the functions in the public API at pandas.testing instead.\n",
      "  import pandas.util.testing as tm\n"
     ]
    }
   ],
   "source": [
    "import matplotlib.pyplot as plt\n",
    "\n",
    "%matplotlib inline\n",
    "import numpy as np\n",
    "import time\n",
    "import sys, gc\n",
    "import seaborn as sns\n",
    "import random\n",
    "\n",
    "from tqdm.notebook import tqdm\n",
    "import math\n",
    "import scipy as si\n",
    "from scipy.stats import norm\n",
    "import pandas as pd\n",
    "import tensorflow as tf\n",
    "import tensorflow.compat.v1 as tf1\n",
    "from sklearn.preprocessing import PolynomialFeatures"
   ]
  },
  {
   "cell_type": "code",
   "execution_count": 2,
   "metadata": {
    "colab": {
     "base_uri": "https://localhost:8080/",
     "height": 34
    },
    "colab_type": "code",
    "id": "Ve4-CbLREPEt",
    "outputId": "65d4e92c-49d8-4f0a-85ae-14d40c7d0d2b"
   },
   "outputs": [
    {
     "name": "stdout",
     "output_type": "stream",
     "text": [
      "GPU available:  True\n"
     ]
    }
   ],
   "source": [
    "import torch \n",
    "import torch.nn as nn\n",
    "import torchvision.transforms as transforms\n",
    "import torchvision.datasets as dsets\n",
    "import torch.nn.functional as F\n",
    "import torch.distributions as tdist\n",
    "print('GPU available: ',torch.cuda.is_available())\n",
    "device = torch.device(\"cpu\")"
   ]
  },
  {
   "cell_type": "markdown",
   "metadata": {
    "colab_type": "text",
    "id": "YiVQJzIq6JVw"
   },
   "source": [
    "# 0 Some tool functions"
   ]
  },
  {
   "cell_type": "code",
   "execution_count": 0,
   "metadata": {
    "colab": {},
    "colab_type": "code",
    "id": "uqFvQzlH6TuD"
   },
   "outputs": [],
   "source": [
    "def KMeans(x, K=10, Niter=20, verbose=False):\n",
    "    x = x.to(device)\n",
    "    N, D = x.shape  # Number of samples, dimension of the ambient space\n",
    "\n",
    "    # K-means loop:\n",
    "    # - x  is the point cloud,\n",
    "    # - cl is the vector of class labels\n",
    "    # - c  is the cloud of cluster centroids\n",
    "    start = time.time()\n",
    "    c = x[np.random.permutation(N)[:K], :].clone()  # Simplistic random initialization\n",
    "    x_i = x[:, None, :]  # (Npoints, 1, D)\n",
    "\n",
    "    for i in range(Niter):\n",
    "\n",
    "        c_j = c[None, :, :]  # (1, Nclusters, D)\n",
    "        D_ij = ((x_i - c_j) ** 2).sum(-1)  # (Npoints, Nclusters) symbolic matrix of squared distances\n",
    "        cl = D_ij.argmin(dim=1).long().view(-1)  # Points -> Nearest cluster\n",
    "\n",
    "        Ncl = torch.bincount(cl).type(torch.float)  # Class weights\n",
    "        for d in range(D):  # Compute the cluster centroids with torch.bincount:\n",
    "            c[:, d] = torch.bincount(cl, weights=x[:, d]) / Ncl\n",
    "\n",
    "    end = time.time()\n",
    "\n",
    "    if verbose:\n",
    "        print(\"K-means example with {:,} points in dimension {:,}, K = {:,}:\".format(N, D, K))\n",
    "        print('Timing for {} iterations: {:.5f}s = {} x {:.5f}s\\n'.format(\n",
    "                Niter, end - start, Niter, (end-start) / Niter))\n",
    "\n",
    "    return cl, c"
   ]
  },
  {
   "cell_type": "markdown",
   "metadata": {
    "colab_type": "text",
    "id": "AL-g-OicJDg9"
   },
   "source": [
    "# 1 Data simulator"
   ]
  },
  {
   "cell_type": "code",
   "execution_count": 0,
   "metadata": {
    "colab": {},
    "colab_type": "code",
    "id": "7y3FJL2XQXWi"
   },
   "outputs": [],
   "source": [
    "class call_pricing_generator:\n",
    "\n",
    "    def __init__(self, dim_X = 5, T = 1.5, r = 0.025, random_state = None) :\n",
    "        self.dim_X = dim_X\n",
    "        self.K = np.random.RandomState(random_state).uniform(80, 120, dim_X)\n",
    "        self.T = T\n",
    "        self.r = r\n",
    "        self.sigma = np.random.RandomState(random_state).uniform(0.1,0.5, dim_X)\n",
    "        self.omega = np.random.RandomState(random_state).uniform(0.,1., dim_X)\n",
    "  \n",
    "    def print_para(self):\n",
    "        return {'dim_X': self.dim_X, 'K': self.K, 'T': self.T, 'r': self.r, \n",
    "                'sigma': self.sigma, 'omega': self.omega}\n",
    "\n",
    "    def simulate(self, N_sim = 10000, random_state = None):\n",
    "        payoff = np.zeros([N_sim, self.dim_X])\n",
    "        price = np.zeros([N_sim, self.dim_X])\n",
    "        S0 = np.zeros([N_sim, self.dim_X])\n",
    "        for i in range(self.dim_X):\n",
    "            S0[:,i] = np.random.RandomState(random_state).uniform(10+i*5, 180+i*5, N_sim)\n",
    "            ST = S0[:,i]*np.exp((self.r-0.5*self.sigma[i]**2)*self.T+self.sigma[i]*np.sqrt(self.T)*np.random.normal(size=N_sim))\n",
    "            payoff[:,i] = np.exp(-self.r*self.T)*np.maximum(ST-self.K[i], 0)\n",
    "            d1 = (np.log(S0[:,i]/self.K[i])+(self.r+0.5*self.sigma[i]**2)*self.T)/(self.sigma[i]*np.sqrt(self.T))\n",
    "            d2 = d1 - self.sigma[i]*np.sqrt(self.T)\n",
    "            price[:,i] = S0[:,i]*norm.cdf(d1)-np.exp(-self.r*self.T)*self.K[i]*norm.cdf(d2)\n",
    "            \n",
    "        payoff = np.sum(payoff*self.omega, axis = 1)\n",
    "        price = np.sum(price*self.omega, axis = 1)\n",
    "        return (torch.from_numpy(S0.reshape(-1,self.dim_X)).type(torch.FloatTensor),\n",
    "                torch.from_numpy(payoff.reshape(-1,1)).type(torch.FloatTensor), \n",
    "                torch.from_numpy(price.reshape(-1,1)).type(torch.FloatTensor))"
   ]
  },
  {
   "cell_type": "code",
   "execution_count": 0,
   "metadata": {
    "colab": {},
    "colab_type": "code",
    "id": "Yqr3WknETkfT"
   },
   "outputs": [],
   "source": [
    "class var_es_generator:\n",
    "\n",
    "    def __init__(self, X_dim = 20, eps = 0.025, lambda_rs = 10, mu_rs = 20):\n",
    "        self.X_dim = X_dim\n",
    "        self.eps = eps\n",
    "        self.lambda_rs = lambda_rs\n",
    "        self.mu_rs = mu_rs\n",
    "        \n",
    "    \n",
    "    def mean_X(self):\n",
    "        return np.zeros(self.X_dim)\n",
    "    \n",
    "    def var_X(self):\n",
    "        return np.identity(self.X_dim)\n",
    "\n",
    "    def cond_mean_std_Y(self, X, weight_vector): \n",
    "        poly = PolynomialFeatures(2)\n",
    "        return np.sum(poly.fit_transform(X) * weight_vector, axis = 1)\n",
    "    \n",
    "    def simulate(self, nb_simulation = 10000, lambda_0 = 10., mu_0 = 3.) :\n",
    "        X = np.random.multivariate_normal(self.mean_X(), self.var_X(), nb_simulation)\n",
    "        #lambda vector : P1(x) = lambda_0 + sum lambda_i*xi + sum lambda_ij*xi*xj\n",
    "        self.lambda_vector = np.append(lambda_0, np.random.RandomState(self.lambda_rs).normal(0,1, int(self.X_dim + self.X_dim*(self.X_dim+1)/2) ))\n",
    "\n",
    "        #mu vector : P2(x) = mu_0 + sum mu_i*xi + sum mu_ij*xi*xj\n",
    "        self.mu_vector = np.append(mu_0, np.random.RandomState(self.mu_rs).normal(0,1, int(self.X_dim + self.X_dim*(self.X_dim+1)/2) ))\n",
    "\n",
    "        mean_Y = self.cond_mean_std_Y(X, self.lambda_vector)\n",
    "        std_Y = self.cond_mean_std_Y(X, self.mu_vector)\n",
    "        std_Y = np.sqrt(std_Y**2)\n",
    "        \n",
    "        Y = np.random.normal(mean_Y, std_Y)\n",
    "\n",
    "        true_VaR = mean_Y - std_Y*norm.ppf(self.eps)\n",
    "        true_ES = mean_Y + 1/self.eps * std_Y * norm.pdf(norm.ppf(self.eps)) \n",
    "\n",
    "        return (torch.from_numpy(X.reshape(nb_simulation, self.X_dim)).type(torch.FloatTensor), \n",
    "                torch.from_numpy(Y.reshape(-1,1)).type(torch.FloatTensor), \n",
    "                torch.from_numpy(true_VaR.reshape(-1,1)).type(torch.FloatTensor), \n",
    "                torch.from_numpy(true_ES.reshape(-1,1)).type(torch.FloatTensor),\n",
    "                mean_Y,\n",
    "                std_Y)"
   ]
  },
  {
   "cell_type": "code",
   "execution_count": 0,
   "metadata": {
    "colab": {},
    "colab_type": "code",
    "id": "eIZY8aLjiD-G"
   },
   "outputs": [],
   "source": [
    "test = var_es_generator(X_dim = 5)\n",
    "X_train, Y_train, true_VaR, true_ES, mean_Y,_ = test.simulate(10000, lambda_0= 20, mu_0 = 10)"
   ]
  },
  {
   "cell_type": "code",
   "execution_count": 7,
   "metadata": {
    "colab": {
     "base_uri": "https://localhost:8080/",
     "height": 337
    },
    "colab_type": "code",
    "id": "RrdiwVEQw-fs",
    "outputId": "02e80358-bbf7-45c0-bf68-bab6d96f2e31"
   },
   "outputs": [
    {
     "data": {
      "text/plain": [
       "<matplotlib.legend.Legend at 0x7f50d10f5ef0>"
      ]
     },
     "execution_count": 7,
     "metadata": {
      "tags": []
     },
     "output_type": "execute_result"
    },
    {
     "data": {
      "image/png": "[encoded data removed]",
      "text/plain": [
       "<Figure size 720x360 with 1 Axes>"
      ]
     },
     "metadata": {
      "needs_background": "light",
      "tags": []
     },
     "output_type": "display_data"
    }
   ],
   "source": [
    "plt.figure(figsize=(10,5))\n",
    "sns.distplot(Y_train.data, label='Y')\n",
    "sns.distplot(true_VaR.data, label='True VaR')\n",
    "sns.distplot(true_ES.data, label='True ES')\n",
    "plt.title(\"\", fontsize=12)\n",
    "plt.xlabel(\"\")\n",
    "plt.ylabel(\"Probability\", fontsize=15)\n",
    "plt.legend()"
   ]
  },
  {
   "cell_type": "markdown",
   "metadata": {
    "colab_type": "text",
    "id": "GCloJQbHJp8u"
   },
   "source": [
    "# 2 Randomized layers"
   ]
  },
  {
   "cell_type": "code",
   "execution_count": 0,
   "metadata": {
    "colab": {},
    "colab_type": "code",
    "id": "U6CDr7DbrXQC"
   },
   "outputs": [],
   "source": [
    "class Randomprojection:\n",
    "\n",
    "    def __init__(self, Layers = [10, 100], random_state = None, activation = 'sigmoid'):\n",
    "\n",
    "        self.W, self.b =[], []\n",
    "        if random_state == None:\n",
    "            for input_size, output_size in zip(Layers, Layers[1:]):\n",
    "                self.W.append(tdist.normal.Normal(0., 1.).sample((input_size, output_size)))\n",
    "                self.b.append(tdist.normal.Normal(0., 1.).sample((output_size,)))\n",
    "        else:\n",
    "            for i,input_size, output_size in zip(range(len(Layers)-1),Layers, Layers[1:]):\n",
    "                torch.manual_seed(random_state+i)\n",
    "                self.W.append(tdist.normal.Normal(0., 1.).sample((input_size, output_size)))\n",
    "                torch.manual_seed(2*random_state+i)\n",
    "                self.W.append(tdist.normal.Normal(0., 1.).sample((output_size,)))\n",
    "\n",
    "        if activation.capitalize() == 'Sigmoid' :\n",
    "            self.activation = torch.sigmoid\n",
    "        elif activation.capitalize() == 'Relu':\n",
    "            self.activation = F.relu\n",
    "        elif activation.capitalize() == 'Tanh':\n",
    "            self.activation = torch.tanh\n",
    "        elif activation.capitalize() == 'Log_softmax':\n",
    "            self.activation = F.log_softmax\n",
    "        elif activation.capitalize() == 'Leakyrelu':\n",
    "            self.activation = F.leaky_relu\n",
    "\n",
    "    def fit_transform(self, X):\n",
    "        X = X.to(device)\n",
    "        for W,b in zip(self.W, self.b):\n",
    "            X = self.activation(torch.matmul(X, W.to(device)) + b.to(device))\n",
    "        return X"
   ]
  },
  {
   "cell_type": "code",
   "execution_count": 0,
   "metadata": {
    "colab": {},
    "colab_type": "code",
    "id": "-iVtl1BwrVnC"
   },
   "outputs": [],
   "source": [
    "class Autoencoder(nn.Module):\n",
    "\n",
    "    def __init__(self, Layers = [1,20,40], activation = 'relu'):\n",
    "        super(Autoencoder, self).__init__()\n",
    "        self.hidden = nn.ModuleList()\n",
    "        # Example: Encoder 1 - 20 - 40 and Decoder 40 - 20 - 1\n",
    "        Layers = Layers + Layers[::-1]\n",
    "        self.hidden = nn.ModuleList()\n",
    "        for input_size, output_size in zip(Layers, Layers[1:]):\n",
    "            self.hidden.append(nn.Linear(input_size, output_size))\n",
    "\n",
    "        if activation.capitalize() == 'Sigmoid' :\n",
    "            self.activation = torch.sigmoid\n",
    "        elif activation.capitalize() == 'Relu':\n",
    "            self.activation = F.relu\n",
    "        elif activation.capitalize() == 'Tanh':\n",
    "            self.activation = F.tanh\n",
    "        elif activation.capitalize() == 'Log_softmax':\n",
    "            self.activation = F.log_softmax\n",
    "        elif activation.capitalize() == 'Leakyrelu':\n",
    "            self.activation = F.leaky_relu\n",
    "\n",
    "    def forward(self, x):\n",
    "        x = x.to(device)\n",
    "        L = len(self.hidden)\n",
    "        for (l, linear_transform) in zip(range(L), self.hidden):\n",
    "            if l < L - 1:\n",
    "                x = self.activation(linear_transform(x))\n",
    "            else:\n",
    "                x = linear_transform(x)\n",
    "        return x\n",
    "\n",
    "    def forward_central_layer(self, x):\n",
    "        x = x.to(device)\n",
    "        L = int(len(self.hidden) / 2)\n",
    "        for (l, linear_transform) in zip(range(L), self.hidden):\n",
    "            if l < L - 1:\n",
    "                x = self.activation(linear_transform(x))\n",
    "            else:\n",
    "                x = linear_transform(x)\n",
    "        return x"
   ]
  },
  {
   "cell_type": "code",
   "execution_count": 0,
   "metadata": {
    "colab": {},
    "colab_type": "code",
    "id": "o2dmWmvMEbwD"
   },
   "outputs": [],
   "source": [
    "class RBFlayer:\n",
    "    \"\"\"RBFlayer.\n",
    "    Parameters\n",
    "    ----------\n",
    "    function: \n",
    "        'Gaussian', 'Multiquadric', 'Inverse quadratic' or 'Thin plate spline'.\n",
    "    \"\"\"\n",
    "\n",
    "    def __init__(self, output_layer = 100, e = 1/2, function = 'gaussian'):\n",
    "        self.K = output_layer\n",
    "        if function.capitalize() == 'Gaussian' :\n",
    "            self.activation = lambda x: torch.exp(-e*x)\n",
    "        elif function.capitalize() == 'Multiquadric':\n",
    "            self.activation = lambda x: torch.sqrt(1+e*x)\n",
    "        elif function.capitalize() == 'Inverse quadratic':\n",
    "            self.activation = lambda x: 1/(1+e*x)\n",
    "        elif function.capitalize() == 'Thin plate spline':\n",
    "            self.activation = lambda x: (x**2*torch.log(torch.clamp(x, min=1e-40) )).type(torch.DoubleTensor)\n",
    "\n",
    "\n",
    "    def fit(self, X):\n",
    "        _, self.centroids = KMeans(X, self.K, 10)\n",
    "          \n",
    "    def transform(self, X):\n",
    "        self.centroids = self.centroids.to(device)\n",
    "        dist= torch.empty((X.shape[0],self.K), dtype= torch.float)\n",
    "        for j in range(self.K):\n",
    "            dist[:,j] = torch.norm(X - self.centroids[j], dim = 1)\n",
    "        return self.activation(dist**2)\n"
   ]
  },
  {
   "cell_type": "markdown",
   "metadata": {
    "colab_type": "text",
    "id": "v2wjql7EuHck"
   },
   "source": [
    "# 3 Readout layers"
   ]
  },
  {
   "cell_type": "code",
   "execution_count": 0,
   "metadata": {
    "colab": {},
    "colab_type": "code",
    "id": "ZnOQUulHvBkJ"
   },
   "outputs": [],
   "source": [
    "from sklearn.linear_model import LinearRegression\n",
    "\n",
    "class LR_readout:\n",
    "    \n",
    "    def __init__(self, intercept = True, normalize=False):\n",
    "        self.lin_reg = LinearRegression(fit_intercept=intercept, normalize=normalize, n_jobs=-1)\n",
    "\n",
    "    def fit(self, X, y):\n",
    "        self.lin_reg.fit(X.cpu(),y.cpu())\n",
    "        self.coef = torch.tensor(self.lin_reg.coef_.T)\n",
    "    def predict(self, X) :\n",
    "        \n",
    "        return torch.from_numpy(self.lin_reg.predict(X.cpu())).type(torch.FloatTensor).to(device)\n",
    "\n",
    "    def l2_loss(self,X, y):\n",
    "        y = y.to(device)\n",
    "        return torch.mean((self.predict(X) - y)**2)"
   ]
  },
  {
   "cell_type": "code",
   "execution_count": 0,
   "metadata": {
    "colab": {},
    "colab_type": "code",
    "id": "c7R6ZaO3jCSe"
   },
   "outputs": [],
   "source": [
    "class NN_nlayers(nn.Module):\n",
    "\n",
    "    def __init__(self, Layers, activation = 'relu'):\n",
    "        super(NN_nlayers, self).__init__()\n",
    "        self.hidden = nn.ModuleList()\n",
    "        for input_size, output_size in zip(Layers, Layers[1:]):\n",
    "            self.hidden.append(nn.Linear(input_size, output_size))\n",
    "\n",
    "        if activation.capitalize() == 'Sigmoid' :\n",
    "            self.activation = torch.sigmoid\n",
    "        elif activation.capitalize() == 'Relu':\n",
    "            self.activation = F.relu\n",
    "        elif activation.capitalize() == 'Tanh':\n",
    "            self.activation = F.tanh\n",
    "        elif activation.capitalize() == 'Log_softmax':\n",
    "            self.activation = F.log_softmax\n",
    "        elif activation.capitalize() == 'Leakyrelu':\n",
    "            self.activation = F.leaky_relu\n",
    "\n",
    "    def forward(self, x):\n",
    "        x = x.to(device)\n",
    "        L = len(self.hidden)\n",
    "        for (l, linear_transform) in zip(range(L), self.hidden):\n",
    "            if l < L - 1:\n",
    "                x = self.activation(linear_transform(x))\n",
    "            else:\n",
    "                x = linear_transform(x)\n",
    "        return x"
   ]
  },
  {
   "cell_type": "code",
   "execution_count": 15,
   "metadata": {
    "colab": {
     "base_uri": "https://localhost:8080/",
     "height": 34
    },
    "colab_type": "code",
    "id": "seurWYOaCQNs",
    "outputId": "67269ca1-3566-4954-b540-162ef0ed116d"
   },
   "outputs": [
    {
     "data": {
      "text/plain": [
       "694"
      ]
     },
     "execution_count": 15,
     "metadata": {
      "tags": []
     },
     "output_type": "execute_result"
    }
   ],
   "source": [
    "gc.collect()"
   ]
  },
  {
   "cell_type": "code",
   "execution_count": 0,
   "metadata": {
    "colab": {},
    "colab_type": "code",
    "id": "MINHqF9ONvpI"
   },
   "outputs": [],
   "source": [
    "sys_variables = sys.modules[__name__]\n",
    "\n",
    "def data_simulator(dim_X = 50, eps = 0.025, nb_path = 50000):\n",
    "    Var_Es_Generator = var_es_generator(X_dim=dim_X, eps = eps, lambda_rs = random.randint(0,2000), mu_rs= random.randint(0,2000))\n",
    "\n",
    "    X_train, Y_train, true_VaR_train, true_ES_train, mean_Y_train, std_Y_train = Var_Es_Generator.simulate(nb_path, lambda_0 = 10., mu_0 = 3.)\n",
    "    X_test, Y_test, true_VaR_test, true_ES_test, mean_Y_test, std_Y_test = Var_Es_Generator.simulate(nb_path, lambda_0 = 10., mu_0 = 3.)\n",
    "\n",
    "    sys_variables.X_train = X_train.to(device)\n",
    "    sys_variables.Y_train = Y_train.to(device)\n",
    "    sys_variables.true_VaR_train = true_VaR_train.to(device)\n",
    "    sys_variables.true_ES_train = true_ES_train.to(device)\n",
    "\n",
    "    sys_variables.X_test = X_test.to(device)\n",
    "    sys_variables.Y_test = Y_test.to(device)\n",
    "    sys_variables.true_VaR_test = true_VaR_test.to(device)\n",
    "    sys_variables.true_ES_test = true_ES_test.to(device)\n",
    "\n",
    "    sys_variables.eps = eps\n",
    "    sys_variables.dim_X = dim_X"
   ]
  },
  {
   "cell_type": "code",
   "execution_count": 0,
   "metadata": {
    "colab": {},
    "colab_type": "code",
    "id": "ohMnm9-fODuy"
   },
   "outputs": [],
   "source": [
    "data_simulator(dim_X = 50, eps = 0.025)"
   ]
  },
  {
   "cell_type": "markdown",
   "metadata": {
    "colab_type": "text",
    "id": "_0HZ9oVsnssE"
   },
   "source": [
    "# 4 Quantile tree-based regression"
   ]
  },
  {
   "cell_type": "markdown",
   "metadata": {
    "colab_type": "text",
    "id": "d5c7HYBEa6Yg"
   },
   "source": [
    "### Random Forest Quantile Regressor"
   ]
  },
  {
   "cell_type": "code",
   "execution_count": 0,
   "metadata": {
    "colab": {},
    "colab_type": "code",
    "id": "xfSU86Mxaynh"
   },
   "outputs": [],
   "source": [
    "def NRMSE_numpy(pred, true, true_std):\n",
    "    return np.sqrt(np.mean((pred - true)**2))/ true_std\n",
    "\n",
    "def plot_function_numpy(var_test_pre, var_test_true, var_test_true_std):\n",
    "    plt.figure(figsize=(8,6))\n",
    "\n",
    "    g = sns.distplot(var_test_pre, label='predicted VaR')\n",
    "    g = sns.distplot(var_test_true, label='True VaR')\n",
    "    g = plt.title(\"out-of-sample VaR distributions\", fontsize=12)\n",
    "    g = plt.xlabel(\"\")\n",
    "    g = plt.ylabel(\"Probability\", fontsize=15)\n",
    "    g = plt.legend()\n",
    "\n",
    "    print('NRMSE out-sample VaR: ',NRMSE_numpy(var_test_pre, var_test_true, var_test_true_std))\n"
   ]
  },
  {
   "cell_type": "code",
   "execution_count": 20,
   "metadata": {
    "colab": {
     "base_uri": "https://localhost:8080/",
     "height": 241
    },
    "colab_type": "code",
    "id": "xu_papcz1DFM",
    "outputId": "be31c2fe-bbd2-4567-de60-f04a19ce8b77"
   },
   "outputs": [
    {
     "name": "stdout",
     "output_type": "stream",
     "text": [
      "Requirement already satisfied: scikit-garden in /usr/local/lib/python3.6/dist-packages (0.1.3)\n",
      "Requirement already satisfied: scikit-learn>=0.18 in /usr/local/lib/python3.6/dist-packages (from scikit-garden) (0.22.2.post1)\n",
      "Requirement already satisfied: numpy in /usr/local/lib/python3.6/dist-packages (from scikit-garden) (1.18.5)\n",
      "Requirement already satisfied: cython in /usr/local/lib/python3.6/dist-packages (from scikit-garden) (0.29.19)\n",
      "Requirement already satisfied: scipy in /usr/local/lib/python3.6/dist-packages (from scikit-garden) (1.4.1)\n",
      "Requirement already satisfied: joblib>=0.11 in /usr/local/lib/python3.6/dist-packages (from scikit-learn>=0.18->scikit-garden) (0.15.1)\n"
     ]
    },
    {
     "name": "stderr",
     "output_type": "stream",
     "text": [
      "/usr/local/lib/python3.6/dist-packages/sklearn/utils/deprecation.py:144: FutureWarning: The sklearn.ensemble.forest module is  deprecated in version 0.22 and will be removed in version 0.24. The corresponding classes / functions should instead be imported from sklearn.ensemble. Anything that cannot be imported from sklearn.ensemble is now part of the private API.\n",
      "  warnings.warn(message, FutureWarning)\n",
      "/usr/local/lib/python3.6/dist-packages/sklearn/externals/six.py:31: FutureWarning: The module is deprecated in version 0.21 and will be removed in version 0.23 since we've dropped support for Python 2.7. Please rely on the official version of six (https://pypi.org/project/six/).\n",
      "  \"(https://pypi.org/project/six/).\", FutureWarning)\n",
      "/usr/local/lib/python3.6/dist-packages/sklearn/utils/deprecation.py:144: FutureWarning: The sklearn.tree.tree module is  deprecated in version 0.22 and will be removed in version 0.24. The corresponding classes / functions should instead be imported from sklearn.tree. Anything that cannot be imported from sklearn.tree is now part of the private API.\n",
      "  warnings.warn(message, FutureWarning)\n"
     ]
    }
   ],
   "source": [
    "!pip install scikit-garden\n",
    "from skgarden import RandomForestQuantileRegressor,ExtraTreesQuantileRegressor\n"
   ]
  },
  {
   "cell_type": "code",
   "execution_count": 21,
   "metadata": {
    "colab": {
     "base_uri": "https://localhost:8080/",
     "height": 1000
    },
    "colab_type": "code",
    "id": "eNcSSIzV1M5V",
    "outputId": "68228492-9bf1-4000-a80d-6fd8368f0e87"
   },
   "outputs": [
    {
     "name": "stderr",
     "output_type": "stream",
     "text": [
      "/usr/local/lib/python3.6/dist-packages/sklearn/utils/validation.py:760: DataConversionWarning: A column-vector y was passed when a 1d array was expected. Please change the shape of y to (n_samples, ), for example using ravel().\n",
      "  y = column_or_1d(y, warn=True)\n",
      "/usr/local/lib/python3.6/dist-packages/sklearn/tree/_classes.py:319: FutureWarning: The parameter 'presort' is deprecated and has no effect. It will be removed in v0.24. You can suppress this warning by not passing any value to the 'presort' parameter.\n",
      "  FutureWarning)\n",
      "/usr/local/lib/python3.6/dist-packages/sklearn/tree/_classes.py:319: FutureWarning: The parameter 'presort' is deprecated and has no effect. It will be removed in v0.24. You can suppress this warning by not passing any value to the 'presort' parameter.\n",
      "  FutureWarning)\n",
      "/usr/local/lib/python3.6/dist-packages/sklearn/tree/_classes.py:319: FutureWarning: The parameter 'presort' is deprecated and has no effect. It will be removed in v0.24. You can suppress this warning by not passing any value to the 'presort' parameter.\n",
      "  FutureWarning)\n",
      "/usr/local/lib/python3.6/dist-packages/sklearn/tree/_classes.py:319: FutureWarning: The parameter 'presort' is deprecated and has no effect. It will be removed in v0.24. You can suppress this warning by not passing any value to the 'presort' parameter.\n",
      "  FutureWarning)\n",
      "/usr/local/lib/python3.6/dist-packages/sklearn/tree/_classes.py:319: FutureWarning: The parameter 'presort' is deprecated and has no effect. It will be removed in v0.24. You can suppress this warning by not passing any value to the 'presort' parameter.\n",
      "  FutureWarning)\n",
      "/usr/local/lib/python3.6/dist-packages/sklearn/tree/_classes.py:319: FutureWarning: The parameter 'presort' is deprecated and has no effect. It will be removed in v0.24. You can suppress this warning by not passing any value to the 'presort' parameter.\n",
      "  FutureWarning)\n",
      "/usr/local/lib/python3.6/dist-packages/sklearn/tree/_classes.py:319: FutureWarning: The parameter 'presort' is deprecated and has no effect. It will be removed in v0.24. You can suppress this warning by not passing any value to the 'presort' parameter.\n",
      "  FutureWarning)\n",
      "/usr/local/lib/python3.6/dist-packages/sklearn/tree/_classes.py:319: FutureWarning: The parameter 'presort' is deprecated and has no effect. It will be removed in v0.24. You can suppress this warning by not passing any value to the 'presort' parameter.\n",
      "  FutureWarning)\n",
      "/usr/local/lib/python3.6/dist-packages/sklearn/tree/_classes.py:319: FutureWarning: The parameter 'presort' is deprecated and has no effect. It will be removed in v0.24. You can suppress this warning by not passing any value to the 'presort' parameter.\n",
      "  FutureWarning)\n",
      "/usr/local/lib/python3.6/dist-packages/sklearn/tree/_classes.py:319: FutureWarning: The parameter 'presort' is deprecated and has no effect. It will be removed in v0.24. You can suppress this warning by not passing any value to the 'presort' parameter.\n",
      "  FutureWarning)\n",
      "/usr/local/lib/python3.6/dist-packages/sklearn/tree/_classes.py:319: FutureWarning: The parameter 'presort' is deprecated and has no effect. It will be removed in v0.24. You can suppress this warning by not passing any value to the 'presort' parameter.\n",
      "  FutureWarning)\n",
      "/usr/local/lib/python3.6/dist-packages/sklearn/tree/_classes.py:319: FutureWarning: The parameter 'presort' is deprecated and has no effect. It will be removed in v0.24. You can suppress this warning by not passing any value to the 'presort' parameter.\n",
      "  FutureWarning)\n",
      "/usr/local/lib/python3.6/dist-packages/sklearn/tree/_classes.py:319: FutureWarning: The parameter 'presort' is deprecated and has no effect. It will be removed in v0.24. You can suppress this warning by not passing any value to the 'presort' parameter.\n",
      "  FutureWarning)\n",
      "/usr/local/lib/python3.6/dist-packages/sklearn/tree/_classes.py:319: FutureWarning: The parameter 'presort' is deprecated and has no effect. It will be removed in v0.24. You can suppress this warning by not passing any value to the 'presort' parameter.\n",
      "  FutureWarning)\n",
      "/usr/local/lib/python3.6/dist-packages/sklearn/tree/_classes.py:319: FutureWarning: The parameter 'presort' is deprecated and has no effect. It will be removed in v0.24. You can suppress this warning by not passing any value to the 'presort' parameter.\n",
      "  FutureWarning)\n",
      "/usr/local/lib/python3.6/dist-packages/sklearn/tree/_classes.py:319: FutureWarning: The parameter 'presort' is deprecated and has no effect. It will be removed in v0.24. You can suppress this warning by not passing any value to the 'presort' parameter.\n",
      "  FutureWarning)\n",
      "/usr/local/lib/python3.6/dist-packages/sklearn/tree/_classes.py:319: FutureWarning: The parameter 'presort' is deprecated and has no effect. It will be removed in v0.24. You can suppress this warning by not passing any value to the 'presort' parameter.\n",
      "  FutureWarning)\n",
      "/usr/local/lib/python3.6/dist-packages/sklearn/tree/_classes.py:319: FutureWarning: The parameter 'presort' is deprecated and has no effect. It will be removed in v0.24. You can suppress this warning by not passing any value to the 'presort' parameter.\n",
      "  FutureWarning)\n",
      "/usr/local/lib/python3.6/dist-packages/sklearn/tree/_classes.py:319: FutureWarning: The parameter 'presort' is deprecated and has no effect. It will be removed in v0.24. You can suppress this warning by not passing any value to the 'presort' parameter.\n",
      "  FutureWarning)\n",
      "/usr/local/lib/python3.6/dist-packages/sklearn/tree/_classes.py:319: FutureWarning: The parameter 'presort' is deprecated and has no effect. It will be removed in v0.24. You can suppress this warning by not passing any value to the 'presort' parameter.\n",
      "  FutureWarning)\n",
      "/usr/local/lib/python3.6/dist-packages/sklearn/tree/_classes.py:319: FutureWarning: The parameter 'presort' is deprecated and has no effect. It will be removed in v0.24. You can suppress this warning by not passing any value to the 'presort' parameter.\n",
      "  FutureWarning)\n",
      "/usr/local/lib/python3.6/dist-packages/sklearn/tree/_classes.py:319: FutureWarning: The parameter 'presort' is deprecated and has no effect. It will be removed in v0.24. You can suppress this warning by not passing any value to the 'presort' parameter.\n",
      "  FutureWarning)\n",
      "/usr/local/lib/python3.6/dist-packages/sklearn/tree/_classes.py:319: FutureWarning: The parameter 'presort' is deprecated and has no effect. It will be removed in v0.24. You can suppress this warning by not passing any value to the 'presort' parameter.\n",
      "  FutureWarning)\n",
      "/usr/local/lib/python3.6/dist-packages/sklearn/tree/_classes.py:319: FutureWarning: The parameter 'presort' is deprecated and has no effect. It will be removed in v0.24. You can suppress this warning by not passing any value to the 'presort' parameter.\n",
      "  FutureWarning)\n",
      "/usr/local/lib/python3.6/dist-packages/sklearn/tree/_classes.py:319: FutureWarning: The parameter 'presort' is deprecated and has no effect. It will be removed in v0.24. You can suppress this warning by not passing any value to the 'presort' parameter.\n",
      "  FutureWarning)\n",
      "/usr/local/lib/python3.6/dist-packages/sklearn/tree/_classes.py:319: FutureWarning: The parameter 'presort' is deprecated and has no effect. It will be removed in v0.24. You can suppress this warning by not passing any value to the 'presort' parameter.\n",
      "  FutureWarning)\n",
      "/usr/local/lib/python3.6/dist-packages/sklearn/tree/_classes.py:319: FutureWarning: The parameter 'presort' is deprecated and has no effect. It will be removed in v0.24. You can suppress this warning by not passing any value to the 'presort' parameter.\n",
      "  FutureWarning)\n",
      "/usr/local/lib/python3.6/dist-packages/sklearn/tree/_classes.py:319: FutureWarning: The parameter 'presort' is deprecated and has no effect. It will be removed in v0.24. You can suppress this warning by not passing any value to the 'presort' parameter.\n",
      "  FutureWarning)\n",
      "/usr/local/lib/python3.6/dist-packages/sklearn/tree/_classes.py:319: FutureWarning: The parameter 'presort' is deprecated and has no effect. It will be removed in v0.24. You can suppress this warning by not passing any value to the 'presort' parameter.\n",
      "  FutureWarning)\n",
      "/usr/local/lib/python3.6/dist-packages/sklearn/tree/_classes.py:319: FutureWarning: The parameter 'presort' is deprecated and has no effect. It will be removed in v0.24. You can suppress this warning by not passing any value to the 'presort' parameter.\n",
      "  FutureWarning)\n",
      "/usr/local/lib/python3.6/dist-packages/sklearn/tree/_classes.py:319: FutureWarning: The parameter 'presort' is deprecated and has no effect. It will be removed in v0.24. You can suppress this warning by not passing any value to the 'presort' parameter.\n",
      "  FutureWarning)\n",
      "/usr/local/lib/python3.6/dist-packages/sklearn/tree/_classes.py:319: FutureWarning: The parameter 'presort' is deprecated and has no effect. It will be removed in v0.24. You can suppress this warning by not passing any value to the 'presort' parameter.\n",
      "  FutureWarning)\n",
      "/usr/local/lib/python3.6/dist-packages/sklearn/tree/_classes.py:319: FutureWarning: The parameter 'presort' is deprecated and has no effect. It will be removed in v0.24. You can suppress this warning by not passing any value to the 'presort' parameter.\n",
      "  FutureWarning)\n",
      "/usr/local/lib/python3.6/dist-packages/sklearn/tree/_classes.py:319: FutureWarning: The parameter 'presort' is deprecated and has no effect. It will be removed in v0.24. You can suppress this warning by not passing any value to the 'presort' parameter.\n",
      "  FutureWarning)\n",
      "/usr/local/lib/python3.6/dist-packages/sklearn/tree/_classes.py:319: FutureWarning: The parameter 'presort' is deprecated and has no effect. It will be removed in v0.24. You can suppress this warning by not passing any value to the 'presort' parameter.\n",
      "  FutureWarning)\n",
      "/usr/local/lib/python3.6/dist-packages/sklearn/tree/_classes.py:319: FutureWarning: The parameter 'presort' is deprecated and has no effect. It will be removed in v0.24. You can suppress this warning by not passing any value to the 'presort' parameter.\n",
      "  FutureWarning)\n",
      "/usr/local/lib/python3.6/dist-packages/sklearn/tree/_classes.py:319: FutureWarning: The parameter 'presort' is deprecated and has no effect. It will be removed in v0.24. You can suppress this warning by not passing any value to the 'presort' parameter.\n",
      "  FutureWarning)\n",
      "/usr/local/lib/python3.6/dist-packages/sklearn/tree/_classes.py:319: FutureWarning: The parameter 'presort' is deprecated and has no effect. It will be removed in v0.24. You can suppress this warning by not passing any value to the 'presort' parameter.\n",
      "  FutureWarning)\n",
      "/usr/local/lib/python3.6/dist-packages/sklearn/tree/_classes.py:319: FutureWarning: The parameter 'presort' is deprecated and has no effect. It will be removed in v0.24. You can suppress this warning by not passing any value to the 'presort' parameter.\n",
      "  FutureWarning)\n",
      "/usr/local/lib/python3.6/dist-packages/sklearn/tree/_classes.py:319: FutureWarning: The parameter 'presort' is deprecated and has no effect. It will be removed in v0.24. You can suppress this warning by not passing any value to the 'presort' parameter.\n",
      "  FutureWarning)\n",
      "/usr/local/lib/python3.6/dist-packages/sklearn/tree/_classes.py:319: FutureWarning: The parameter 'presort' is deprecated and has no effect. It will be removed in v0.24. You can suppress this warning by not passing any value to the 'presort' parameter.\n",
      "  FutureWarning)\n",
      "/usr/local/lib/python3.6/dist-packages/sklearn/tree/_classes.py:319: FutureWarning: The parameter 'presort' is deprecated and has no effect. It will be removed in v0.24. You can suppress this warning by not passing any value to the 'presort' parameter.\n",
      "  FutureWarning)\n",
      "/usr/local/lib/python3.6/dist-packages/sklearn/tree/_classes.py:319: FutureWarning: The parameter 'presort' is deprecated and has no effect. It will be removed in v0.24. You can suppress this warning by not passing any value to the 'presort' parameter.\n",
      "  FutureWarning)\n",
      "/usr/local/lib/python3.6/dist-packages/sklearn/tree/_classes.py:319: FutureWarning: The parameter 'presort' is deprecated and has no effect. It will be removed in v0.24. You can suppress this warning by not passing any value to the 'presort' parameter.\n",
      "  FutureWarning)\n",
      "/usr/local/lib/python3.6/dist-packages/sklearn/tree/_classes.py:319: FutureWarning: The parameter 'presort' is deprecated and has no effect. It will be removed in v0.24. You can suppress this warning by not passing any value to the 'presort' parameter.\n",
      "  FutureWarning)\n",
      "/usr/local/lib/python3.6/dist-packages/sklearn/tree/_classes.py:319: FutureWarning: The parameter 'presort' is deprecated and has no effect. It will be removed in v0.24. You can suppress this warning by not passing any value to the 'presort' parameter.\n",
      "  FutureWarning)\n",
      "/usr/local/lib/python3.6/dist-packages/sklearn/tree/_classes.py:319: FutureWarning: The parameter 'presort' is deprecated and has no effect. It will be removed in v0.24. You can suppress this warning by not passing any value to the 'presort' parameter.\n",
      "  FutureWarning)\n",
      "/usr/local/lib/python3.6/dist-packages/sklearn/tree/_classes.py:319: FutureWarning: The parameter 'presort' is deprecated and has no effect. It will be removed in v0.24. You can suppress this warning by not passing any value to the 'presort' parameter.\n",
      "  FutureWarning)\n",
      "/usr/local/lib/python3.6/dist-packages/sklearn/tree/_classes.py:319: FutureWarning: The parameter 'presort' is deprecated and has no effect. It will be removed in v0.24. You can suppress this warning by not passing any value to the 'presort' parameter.\n",
      "  FutureWarning)\n",
      "/usr/local/lib/python3.6/dist-packages/sklearn/tree/_classes.py:319: FutureWarning: The parameter 'presort' is deprecated and has no effect. It will be removed in v0.24. You can suppress this warning by not passing any value to the 'presort' parameter.\n",
      "  FutureWarning)\n",
      "/usr/local/lib/python3.6/dist-packages/sklearn/tree/_classes.py:319: FutureWarning: The parameter 'presort' is deprecated and has no effect. It will be removed in v0.24. You can suppress this warning by not passing any value to the 'presort' parameter.\n",
      "  FutureWarning)\n",
      "/usr/local/lib/python3.6/dist-packages/sklearn/tree/_classes.py:319: FutureWarning: The parameter 'presort' is deprecated and has no effect. It will be removed in v0.24. You can suppress this warning by not passing any value to the 'presort' parameter.\n",
      "  FutureWarning)\n",
      "/usr/local/lib/python3.6/dist-packages/sklearn/tree/_classes.py:319: FutureWarning: The parameter 'presort' is deprecated and has no effect. It will be removed in v0.24. You can suppress this warning by not passing any value to the 'presort' parameter.\n",
      "  FutureWarning)\n",
      "/usr/local/lib/python3.6/dist-packages/sklearn/tree/_classes.py:319: FutureWarning: The parameter 'presort' is deprecated and has no effect. It will be removed in v0.24. You can suppress this warning by not passing any value to the 'presort' parameter.\n",
      "  FutureWarning)\n",
      "/usr/local/lib/python3.6/dist-packages/sklearn/tree/_classes.py:319: FutureWarning: The parameter 'presort' is deprecated and has no effect. It will be removed in v0.24. You can suppress this warning by not passing any value to the 'presort' parameter.\n",
      "  FutureWarning)\n",
      "/usr/local/lib/python3.6/dist-packages/sklearn/tree/_classes.py:319: FutureWarning: The parameter 'presort' is deprecated and has no effect. It will be removed in v0.24. You can suppress this warning by not passing any value to the 'presort' parameter.\n",
      "  FutureWarning)\n",
      "/usr/local/lib/python3.6/dist-packages/sklearn/tree/_classes.py:319: FutureWarning: The parameter 'presort' is deprecated and has no effect. It will be removed in v0.24. You can suppress this warning by not passing any value to the 'presort' parameter.\n",
      "  FutureWarning)\n",
      "/usr/local/lib/python3.6/dist-packages/sklearn/tree/_classes.py:319: FutureWarning: The parameter 'presort' is deprecated and has no effect. It will be removed in v0.24. You can suppress this warning by not passing any value to the 'presort' parameter.\n",
      "  FutureWarning)\n",
      "/usr/local/lib/python3.6/dist-packages/sklearn/tree/_classes.py:319: FutureWarning: The parameter 'presort' is deprecated and has no effect. It will be removed in v0.24. You can suppress this warning by not passing any value to the 'presort' parameter.\n",
      "  FutureWarning)\n",
      "/usr/local/lib/python3.6/dist-packages/sklearn/tree/_classes.py:319: FutureWarning: The parameter 'presort' is deprecated and has no effect. It will be removed in v0.24. You can suppress this warning by not passing any value to the 'presort' parameter.\n",
      "  FutureWarning)\n",
      "/usr/local/lib/python3.6/dist-packages/sklearn/tree/_classes.py:319: FutureWarning: The parameter 'presort' is deprecated and has no effect. It will be removed in v0.24. You can suppress this warning by not passing any value to the 'presort' parameter.\n",
      "  FutureWarning)\n",
      "/usr/local/lib/python3.6/dist-packages/sklearn/tree/_classes.py:319: FutureWarning: The parameter 'presort' is deprecated and has no effect. It will be removed in v0.24. You can suppress this warning by not passing any value to the 'presort' parameter.\n",
      "  FutureWarning)\n",
      "/usr/local/lib/python3.6/dist-packages/sklearn/tree/_classes.py:319: FutureWarning: The parameter 'presort' is deprecated and has no effect. It will be removed in v0.24. You can suppress this warning by not passing any value to the 'presort' parameter.\n",
      "  FutureWarning)\n",
      "/usr/local/lib/python3.6/dist-packages/sklearn/tree/_classes.py:319: FutureWarning: The parameter 'presort' is deprecated and has no effect. It will be removed in v0.24. You can suppress this warning by not passing any value to the 'presort' parameter.\n",
      "  FutureWarning)\n",
      "/usr/local/lib/python3.6/dist-packages/sklearn/tree/_classes.py:319: FutureWarning: The parameter 'presort' is deprecated and has no effect. It will be removed in v0.24. You can suppress this warning by not passing any value to the 'presort' parameter.\n",
      "  FutureWarning)\n",
      "/usr/local/lib/python3.6/dist-packages/sklearn/tree/_classes.py:319: FutureWarning: The parameter 'presort' is deprecated and has no effect. It will be removed in v0.24. You can suppress this warning by not passing any value to the 'presort' parameter.\n",
      "  FutureWarning)\n",
      "/usr/local/lib/python3.6/dist-packages/sklearn/tree/_classes.py:319: FutureWarning: The parameter 'presort' is deprecated and has no effect. It will be removed in v0.24. You can suppress this warning by not passing any value to the 'presort' parameter.\n",
      "  FutureWarning)\n",
      "/usr/local/lib/python3.6/dist-packages/sklearn/tree/_classes.py:319: FutureWarning: The parameter 'presort' is deprecated and has no effect. It will be removed in v0.24. You can suppress this warning by not passing any value to the 'presort' parameter.\n",
      "  FutureWarning)\n",
      "/usr/local/lib/python3.6/dist-packages/sklearn/tree/_classes.py:319: FutureWarning: The parameter 'presort' is deprecated and has no effect. It will be removed in v0.24. You can suppress this warning by not passing any value to the 'presort' parameter.\n",
      "  FutureWarning)\n",
      "/usr/local/lib/python3.6/dist-packages/sklearn/tree/_classes.py:319: FutureWarning: The parameter 'presort' is deprecated and has no effect. It will be removed in v0.24. You can suppress this warning by not passing any value to the 'presort' parameter.\n",
      "  FutureWarning)\n",
      "/usr/local/lib/python3.6/dist-packages/sklearn/tree/_classes.py:319: FutureWarning: The parameter 'presort' is deprecated and has no effect. It will be removed in v0.24. You can suppress this warning by not passing any value to the 'presort' parameter.\n",
      "  FutureWarning)\n",
      "/usr/local/lib/python3.6/dist-packages/sklearn/tree/_classes.py:319: FutureWarning: The parameter 'presort' is deprecated and has no effect. It will be removed in v0.24. You can suppress this warning by not passing any value to the 'presort' parameter.\n",
      "  FutureWarning)\n",
      "/usr/local/lib/python3.6/dist-packages/sklearn/tree/_classes.py:319: FutureWarning: The parameter 'presort' is deprecated and has no effect. It will be removed in v0.24. You can suppress this warning by not passing any value to the 'presort' parameter.\n",
      "  FutureWarning)\n",
      "/usr/local/lib/python3.6/dist-packages/sklearn/tree/_classes.py:319: FutureWarning: The parameter 'presort' is deprecated and has no effect. It will be removed in v0.24. You can suppress this warning by not passing any value to the 'presort' parameter.\n",
      "  FutureWarning)\n",
      "/usr/local/lib/python3.6/dist-packages/sklearn/tree/_classes.py:319: FutureWarning: The parameter 'presort' is deprecated and has no effect. It will be removed in v0.24. You can suppress this warning by not passing any value to the 'presort' parameter.\n",
      "  FutureWarning)\n",
      "/usr/local/lib/python3.6/dist-packages/sklearn/tree/_classes.py:319: FutureWarning: The parameter 'presort' is deprecated and has no effect. It will be removed in v0.24. You can suppress this warning by not passing any value to the 'presort' parameter.\n",
      "  FutureWarning)\n",
      "/usr/local/lib/python3.6/dist-packages/sklearn/tree/_classes.py:319: FutureWarning: The parameter 'presort' is deprecated and has no effect. It will be removed in v0.24. You can suppress this warning by not passing any value to the 'presort' parameter.\n",
      "  FutureWarning)\n",
      "/usr/local/lib/python3.6/dist-packages/sklearn/tree/_classes.py:319: FutureWarning: The parameter 'presort' is deprecated and has no effect. It will be removed in v0.24. You can suppress this warning by not passing any value to the 'presort' parameter.\n",
      "  FutureWarning)\n",
      "/usr/local/lib/python3.6/dist-packages/sklearn/tree/_classes.py:319: FutureWarning: The parameter 'presort' is deprecated and has no effect. It will be removed in v0.24. You can suppress this warning by not passing any value to the 'presort' parameter.\n",
      "  FutureWarning)\n",
      "/usr/local/lib/python3.6/dist-packages/sklearn/tree/_classes.py:319: FutureWarning: The parameter 'presort' is deprecated and has no effect. It will be removed in v0.24. You can suppress this warning by not passing any value to the 'presort' parameter.\n",
      "  FutureWarning)\n",
      "/usr/local/lib/python3.6/dist-packages/sklearn/tree/_classes.py:319: FutureWarning: The parameter 'presort' is deprecated and has no effect. It will be removed in v0.24. You can suppress this warning by not passing any value to the 'presort' parameter.\n",
      "  FutureWarning)\n",
      "/usr/local/lib/python3.6/dist-packages/sklearn/tree/_classes.py:319: FutureWarning: The parameter 'presort' is deprecated and has no effect. It will be removed in v0.24. You can suppress this warning by not passing any value to the 'presort' parameter.\n",
      "  FutureWarning)\n",
      "/usr/local/lib/python3.6/dist-packages/sklearn/tree/_classes.py:319: FutureWarning: The parameter 'presort' is deprecated and has no effect. It will be removed in v0.24. You can suppress this warning by not passing any value to the 'presort' parameter.\n",
      "  FutureWarning)\n",
      "/usr/local/lib/python3.6/dist-packages/sklearn/tree/_classes.py:319: FutureWarning: The parameter 'presort' is deprecated and has no effect. It will be removed in v0.24. You can suppress this warning by not passing any value to the 'presort' parameter.\n",
      "  FutureWarning)\n",
      "/usr/local/lib/python3.6/dist-packages/sklearn/tree/_classes.py:319: FutureWarning: The parameter 'presort' is deprecated and has no effect. It will be removed in v0.24. You can suppress this warning by not passing any value to the 'presort' parameter.\n",
      "  FutureWarning)\n",
      "/usr/local/lib/python3.6/dist-packages/sklearn/tree/_classes.py:319: FutureWarning: The parameter 'presort' is deprecated and has no effect. It will be removed in v0.24. You can suppress this warning by not passing any value to the 'presort' parameter.\n",
      "  FutureWarning)\n",
      "/usr/local/lib/python3.6/dist-packages/sklearn/tree/_classes.py:319: FutureWarning: The parameter 'presort' is deprecated and has no effect. It will be removed in v0.24. You can suppress this warning by not passing any value to the 'presort' parameter.\n",
      "  FutureWarning)\n",
      "/usr/local/lib/python3.6/dist-packages/sklearn/tree/_classes.py:319: FutureWarning: The parameter 'presort' is deprecated and has no effect. It will be removed in v0.24. You can suppress this warning by not passing any value to the 'presort' parameter.\n",
      "  FutureWarning)\n",
      "/usr/local/lib/python3.6/dist-packages/sklearn/tree/_classes.py:319: FutureWarning: The parameter 'presort' is deprecated and has no effect. It will be removed in v0.24. You can suppress this warning by not passing any value to the 'presort' parameter.\n",
      "  FutureWarning)\n",
      "/usr/local/lib/python3.6/dist-packages/sklearn/tree/_classes.py:319: FutureWarning: The parameter 'presort' is deprecated and has no effect. It will be removed in v0.24. You can suppress this warning by not passing any value to the 'presort' parameter.\n",
      "  FutureWarning)\n",
      "/usr/local/lib/python3.6/dist-packages/sklearn/tree/_classes.py:319: FutureWarning: The parameter 'presort' is deprecated and has no effect. It will be removed in v0.24. You can suppress this warning by not passing any value to the 'presort' parameter.\n",
      "  FutureWarning)\n",
      "/usr/local/lib/python3.6/dist-packages/sklearn/tree/_classes.py:319: FutureWarning: The parameter 'presort' is deprecated and has no effect. It will be removed in v0.24. You can suppress this warning by not passing any value to the 'presort' parameter.\n",
      "  FutureWarning)\n",
      "/usr/local/lib/python3.6/dist-packages/sklearn/tree/_classes.py:319: FutureWarning: The parameter 'presort' is deprecated and has no effect. It will be removed in v0.24. You can suppress this warning by not passing any value to the 'presort' parameter.\n",
      "  FutureWarning)\n",
      "/usr/local/lib/python3.6/dist-packages/sklearn/tree/_classes.py:319: FutureWarning: The parameter 'presort' is deprecated and has no effect. It will be removed in v0.24. You can suppress this warning by not passing any value to the 'presort' parameter.\n",
      "  FutureWarning)\n",
      "/usr/local/lib/python3.6/dist-packages/sklearn/tree/_classes.py:319: FutureWarning: The parameter 'presort' is deprecated and has no effect. It will be removed in v0.24. You can suppress this warning by not passing any value to the 'presort' parameter.\n",
      "  FutureWarning)\n",
      "/usr/local/lib/python3.6/dist-packages/sklearn/tree/_classes.py:319: FutureWarning: The parameter 'presort' is deprecated and has no effect. It will be removed in v0.24. You can suppress this warning by not passing any value to the 'presort' parameter.\n",
      "  FutureWarning)\n",
      "/usr/local/lib/python3.6/dist-packages/sklearn/tree/_classes.py:319: FutureWarning: The parameter 'presort' is deprecated and has no effect. It will be removed in v0.24. You can suppress this warning by not passing any value to the 'presort' parameter.\n",
      "  FutureWarning)\n",
      "/usr/local/lib/python3.6/dist-packages/sklearn/tree/_classes.py:319: FutureWarning: The parameter 'presort' is deprecated and has no effect. It will be removed in v0.24. You can suppress this warning by not passing any value to the 'presort' parameter.\n",
      "  FutureWarning)\n",
      "/usr/local/lib/python3.6/dist-packages/sklearn/tree/_classes.py:319: FutureWarning: The parameter 'presort' is deprecated and has no effect. It will be removed in v0.24. You can suppress this warning by not passing any value to the 'presort' parameter.\n",
      "  FutureWarning)\n",
      "/usr/local/lib/python3.6/dist-packages/sklearn/tree/_classes.py:319: FutureWarning: The parameter 'presort' is deprecated and has no effect. It will be removed in v0.24. You can suppress this warning by not passing any value to the 'presort' parameter.\n",
      "  FutureWarning)\n",
      "/usr/local/lib/python3.6/dist-packages/sklearn/tree/_classes.py:319: FutureWarning: The parameter 'presort' is deprecated and has no effect. It will be removed in v0.24. You can suppress this warning by not passing any value to the 'presort' parameter.\n",
      "  FutureWarning)\n",
      "/usr/local/lib/python3.6/dist-packages/sklearn/tree/_classes.py:319: FutureWarning: The parameter 'presort' is deprecated and has no effect. It will be removed in v0.24. You can suppress this warning by not passing any value to the 'presort' parameter.\n",
      "  FutureWarning)\n",
      "/usr/local/lib/python3.6/dist-packages/sklearn/tree/_classes.py:319: FutureWarning: The parameter 'presort' is deprecated and has no effect. It will be removed in v0.24. You can suppress this warning by not passing any value to the 'presort' parameter.\n",
      "  FutureWarning)\n",
      "/usr/local/lib/python3.6/dist-packages/sklearn/tree/_classes.py:319: FutureWarning: The parameter 'presort' is deprecated and has no effect. It will be removed in v0.24. You can suppress this warning by not passing any value to the 'presort' parameter.\n",
      "  FutureWarning)\n",
      "/usr/local/lib/python3.6/dist-packages/sklearn/tree/_classes.py:319: FutureWarning: The parameter 'presort' is deprecated and has no effect. It will be removed in v0.24. You can suppress this warning by not passing any value to the 'presort' parameter.\n",
      "  FutureWarning)\n",
      "/usr/local/lib/python3.6/dist-packages/sklearn/tree/_classes.py:319: FutureWarning: The parameter 'presort' is deprecated and has no effect. It will be removed in v0.24. You can suppress this warning by not passing any value to the 'presort' parameter.\n",
      "  FutureWarning)\n",
      "/usr/local/lib/python3.6/dist-packages/sklearn/tree/_classes.py:319: FutureWarning: The parameter 'presort' is deprecated and has no effect. It will be removed in v0.24. You can suppress this warning by not passing any value to the 'presort' parameter.\n",
      "  FutureWarning)\n",
      "/usr/local/lib/python3.6/dist-packages/sklearn/tree/_classes.py:319: FutureWarning: The parameter 'presort' is deprecated and has no effect. It will be removed in v0.24. You can suppress this warning by not passing any value to the 'presort' parameter.\n",
      "  FutureWarning)\n",
      "/usr/local/lib/python3.6/dist-packages/sklearn/tree/_classes.py:319: FutureWarning: The parameter 'presort' is deprecated and has no effect. It will be removed in v0.24. You can suppress this warning by not passing any value to the 'presort' parameter.\n",
      "  FutureWarning)\n",
      "/usr/local/lib/python3.6/dist-packages/sklearn/tree/_classes.py:319: FutureWarning: The parameter 'presort' is deprecated and has no effect. It will be removed in v0.24. You can suppress this warning by not passing any value to the 'presort' parameter.\n",
      "  FutureWarning)\n",
      "/usr/local/lib/python3.6/dist-packages/sklearn/tree/_classes.py:319: FutureWarning: The parameter 'presort' is deprecated and has no effect. It will be removed in v0.24. You can suppress this warning by not passing any value to the 'presort' parameter.\n",
      "  FutureWarning)\n",
      "/usr/local/lib/python3.6/dist-packages/sklearn/tree/_classes.py:319: FutureWarning: The parameter 'presort' is deprecated and has no effect. It will be removed in v0.24. You can suppress this warning by not passing any value to the 'presort' parameter.\n",
      "  FutureWarning)\n",
      "/usr/local/lib/python3.6/dist-packages/sklearn/tree/_classes.py:319: FutureWarning: The parameter 'presort' is deprecated and has no effect. It will be removed in v0.24. You can suppress this warning by not passing any value to the 'presort' parameter.\n",
      "  FutureWarning)\n",
      "/usr/local/lib/python3.6/dist-packages/sklearn/tree/_classes.py:319: FutureWarning: The parameter 'presort' is deprecated and has no effect. It will be removed in v0.24. You can suppress this warning by not passing any value to the 'presort' parameter.\n",
      "  FutureWarning)\n",
      "/usr/local/lib/python3.6/dist-packages/sklearn/tree/_classes.py:319: FutureWarning: The parameter 'presort' is deprecated and has no effect. It will be removed in v0.24. You can suppress this warning by not passing any value to the 'presort' parameter.\n",
      "  FutureWarning)\n",
      "/usr/local/lib/python3.6/dist-packages/sklearn/tree/_classes.py:319: FutureWarning: The parameter 'presort' is deprecated and has no effect. It will be removed in v0.24. You can suppress this warning by not passing any value to the 'presort' parameter.\n",
      "  FutureWarning)\n",
      "/usr/local/lib/python3.6/dist-packages/sklearn/tree/_classes.py:319: FutureWarning: The parameter 'presort' is deprecated and has no effect. It will be removed in v0.24. You can suppress this warning by not passing any value to the 'presort' parameter.\n",
      "  FutureWarning)\n",
      "/usr/local/lib/python3.6/dist-packages/sklearn/tree/_classes.py:319: FutureWarning: The parameter 'presort' is deprecated and has no effect. It will be removed in v0.24. You can suppress this warning by not passing any value to the 'presort' parameter.\n",
      "  FutureWarning)\n",
      "/usr/local/lib/python3.6/dist-packages/sklearn/tree/_classes.py:319: FutureWarning: The parameter 'presort' is deprecated and has no effect. It will be removed in v0.24. You can suppress this warning by not passing any value to the 'presort' parameter.\n",
      "  FutureWarning)\n",
      "/usr/local/lib/python3.6/dist-packages/sklearn/tree/_classes.py:319: FutureWarning: The parameter 'presort' is deprecated and has no effect. It will be removed in v0.24. You can suppress this warning by not passing any value to the 'presort' parameter.\n",
      "  FutureWarning)\n",
      "/usr/local/lib/python3.6/dist-packages/sklearn/tree/_classes.py:319: FutureWarning: The parameter 'presort' is deprecated and has no effect. It will be removed in v0.24. You can suppress this warning by not passing any value to the 'presort' parameter.\n",
      "  FutureWarning)\n",
      "/usr/local/lib/python3.6/dist-packages/sklearn/tree/_classes.py:319: FutureWarning: The parameter 'presort' is deprecated and has no effect. It will be removed in v0.24. You can suppress this warning by not passing any value to the 'presort' parameter.\n",
      "  FutureWarning)\n",
      "/usr/local/lib/python3.6/dist-packages/sklearn/tree/_classes.py:319: FutureWarning: The parameter 'presort' is deprecated and has no effect. It will be removed in v0.24. You can suppress this warning by not passing any value to the 'presort' parameter.\n",
      "  FutureWarning)\n",
      "/usr/local/lib/python3.6/dist-packages/sklearn/tree/_classes.py:319: FutureWarning: The parameter 'presort' is deprecated and has no effect. It will be removed in v0.24. You can suppress this warning by not passing any value to the 'presort' parameter.\n",
      "  FutureWarning)\n",
      "/usr/local/lib/python3.6/dist-packages/sklearn/tree/_classes.py:319: FutureWarning: The parameter 'presort' is deprecated and has no effect. It will be removed in v0.24. You can suppress this warning by not passing any value to the 'presort' parameter.\n",
      "  FutureWarning)\n",
      "/usr/local/lib/python3.6/dist-packages/sklearn/tree/_classes.py:319: FutureWarning: The parameter 'presort' is deprecated and has no effect. It will be removed in v0.24. You can suppress this warning by not passing any value to the 'presort' parameter.\n",
      "  FutureWarning)\n",
      "/usr/local/lib/python3.6/dist-packages/sklearn/tree/_classes.py:319: FutureWarning: The parameter 'presort' is deprecated and has no effect. It will be removed in v0.24. You can suppress this warning by not passing any value to the 'presort' parameter.\n",
      "  FutureWarning)\n",
      "/usr/local/lib/python3.6/dist-packages/sklearn/tree/_classes.py:319: FutureWarning: The parameter 'presort' is deprecated and has no effect. It will be removed in v0.24. You can suppress this warning by not passing any value to the 'presort' parameter.\n",
      "  FutureWarning)\n",
      "/usr/local/lib/python3.6/dist-packages/sklearn/tree/_classes.py:319: FutureWarning: The parameter 'presort' is deprecated and has no effect. It will be removed in v0.24. You can suppress this warning by not passing any value to the 'presort' parameter.\n",
      "  FutureWarning)\n",
      "/usr/local/lib/python3.6/dist-packages/sklearn/tree/_classes.py:319: FutureWarning: The parameter 'presort' is deprecated and has no effect. It will be removed in v0.24. You can suppress this warning by not passing any value to the 'presort' parameter.\n",
      "  FutureWarning)\n",
      "/usr/local/lib/python3.6/dist-packages/sklearn/tree/_classes.py:319: FutureWarning: The parameter 'presort' is deprecated and has no effect. It will be removed in v0.24. You can suppress this warning by not passing any value to the 'presort' parameter.\n",
      "  FutureWarning)\n",
      "/usr/local/lib/python3.6/dist-packages/sklearn/tree/_classes.py:319: FutureWarning: The parameter 'presort' is deprecated and has no effect. It will be removed in v0.24. You can suppress this warning by not passing any value to the 'presort' parameter.\n",
      "  FutureWarning)\n",
      "/usr/local/lib/python3.6/dist-packages/sklearn/tree/_classes.py:319: FutureWarning: The parameter 'presort' is deprecated and has no effect. It will be removed in v0.24. You can suppress this warning by not passing any value to the 'presort' parameter.\n",
      "  FutureWarning)\n",
      "/usr/local/lib/python3.6/dist-packages/sklearn/tree/_classes.py:319: FutureWarning: The parameter 'presort' is deprecated and has no effect. It will be removed in v0.24. You can suppress this warning by not passing any value to the 'presort' parameter.\n",
      "  FutureWarning)\n",
      "/usr/local/lib/python3.6/dist-packages/sklearn/tree/_classes.py:319: FutureWarning: The parameter 'presort' is deprecated and has no effect. It will be removed in v0.24. You can suppress this warning by not passing any value to the 'presort' parameter.\n",
      "  FutureWarning)\n",
      "/usr/local/lib/python3.6/dist-packages/sklearn/tree/_classes.py:319: FutureWarning: The parameter 'presort' is deprecated and has no effect. It will be removed in v0.24. You can suppress this warning by not passing any value to the 'presort' parameter.\n",
      "  FutureWarning)\n",
      "/usr/local/lib/python3.6/dist-packages/sklearn/tree/_classes.py:319: FutureWarning: The parameter 'presort' is deprecated and has no effect. It will be removed in v0.24. You can suppress this warning by not passing any value to the 'presort' parameter.\n",
      "  FutureWarning)\n",
      "/usr/local/lib/python3.6/dist-packages/sklearn/tree/_classes.py:319: FutureWarning: The parameter 'presort' is deprecated and has no effect. It will be removed in v0.24. You can suppress this warning by not passing any value to the 'presort' parameter.\n",
      "  FutureWarning)\n",
      "/usr/local/lib/python3.6/dist-packages/sklearn/tree/_classes.py:319: FutureWarning: The parameter 'presort' is deprecated and has no effect. It will be removed in v0.24. You can suppress this warning by not passing any value to the 'presort' parameter.\n",
      "  FutureWarning)\n",
      "/usr/local/lib/python3.6/dist-packages/sklearn/tree/_classes.py:319: FutureWarning: The parameter 'presort' is deprecated and has no effect. It will be removed in v0.24. You can suppress this warning by not passing any value to the 'presort' parameter.\n",
      "  FutureWarning)\n",
      "/usr/local/lib/python3.6/dist-packages/sklearn/tree/_classes.py:319: FutureWarning: The parameter 'presort' is deprecated and has no effect. It will be removed in v0.24. You can suppress this warning by not passing any value to the 'presort' parameter.\n",
      "  FutureWarning)\n",
      "/usr/local/lib/python3.6/dist-packages/sklearn/tree/_classes.py:319: FutureWarning: The parameter 'presort' is deprecated and has no effect. It will be removed in v0.24. You can suppress this warning by not passing any value to the 'presort' parameter.\n",
      "  FutureWarning)\n",
      "/usr/local/lib/python3.6/dist-packages/sklearn/tree/_classes.py:319: FutureWarning: The parameter 'presort' is deprecated and has no effect. It will be removed in v0.24. You can suppress this warning by not passing any value to the 'presort' parameter.\n",
      "  FutureWarning)\n",
      "/usr/local/lib/python3.6/dist-packages/sklearn/tree/_classes.py:319: FutureWarning: The parameter 'presort' is deprecated and has no effect. It will be removed in v0.24. You can suppress this warning by not passing any value to the 'presort' parameter.\n",
      "  FutureWarning)\n",
      "/usr/local/lib/python3.6/dist-packages/sklearn/tree/_classes.py:319: FutureWarning: The parameter 'presort' is deprecated and has no effect. It will be removed in v0.24. You can suppress this warning by not passing any value to the 'presort' parameter.\n",
      "  FutureWarning)\n",
      "/usr/local/lib/python3.6/dist-packages/sklearn/tree/_classes.py:319: FutureWarning: The parameter 'presort' is deprecated and has no effect. It will be removed in v0.24. You can suppress this warning by not passing any value to the 'presort' parameter.\n",
      "  FutureWarning)\n",
      "/usr/local/lib/python3.6/dist-packages/sklearn/tree/_classes.py:319: FutureWarning: The parameter 'presort' is deprecated and has no effect. It will be removed in v0.24. You can suppress this warning by not passing any value to the 'presort' parameter.\n",
      "  FutureWarning)\n",
      "/usr/local/lib/python3.6/dist-packages/sklearn/tree/_classes.py:319: FutureWarning: The parameter 'presort' is deprecated and has no effect. It will be removed in v0.24. You can suppress this warning by not passing any value to the 'presort' parameter.\n",
      "  FutureWarning)\n",
      "/usr/local/lib/python3.6/dist-packages/sklearn/tree/_classes.py:319: FutureWarning: The parameter 'presort' is deprecated and has no effect. It will be removed in v0.24. You can suppress this warning by not passing any value to the 'presort' parameter.\n",
      "  FutureWarning)\n",
      "/usr/local/lib/python3.6/dist-packages/sklearn/tree/_classes.py:319: FutureWarning: The parameter 'presort' is deprecated and has no effect. It will be removed in v0.24. You can suppress this warning by not passing any value to the 'presort' parameter.\n",
      "  FutureWarning)\n",
      "/usr/local/lib/python3.6/dist-packages/sklearn/tree/_classes.py:319: FutureWarning: The parameter 'presort' is deprecated and has no effect. It will be removed in v0.24. You can suppress this warning by not passing any value to the 'presort' parameter.\n",
      "  FutureWarning)\n",
      "/usr/local/lib/python3.6/dist-packages/sklearn/tree/_classes.py:319: FutureWarning: The parameter 'presort' is deprecated and has no effect. It will be removed in v0.24. You can suppress this warning by not passing any value to the 'presort' parameter.\n",
      "  FutureWarning)\n",
      "/usr/local/lib/python3.6/dist-packages/sklearn/tree/_classes.py:319: FutureWarning: The parameter 'presort' is deprecated and has no effect. It will be removed in v0.24. You can suppress this warning by not passing any value to the 'presort' parameter.\n",
      "  FutureWarning)\n",
      "/usr/local/lib/python3.6/dist-packages/sklearn/tree/_classes.py:319: FutureWarning: The parameter 'presort' is deprecated and has no effect. It will be removed in v0.24. You can suppress this warning by not passing any value to the 'presort' parameter.\n",
      "  FutureWarning)\n",
      "/usr/local/lib/python3.6/dist-packages/sklearn/tree/_classes.py:319: FutureWarning: The parameter 'presort' is deprecated and has no effect. It will be removed in v0.24. You can suppress this warning by not passing any value to the 'presort' parameter.\n",
      "  FutureWarning)\n",
      "/usr/local/lib/python3.6/dist-packages/sklearn/tree/_classes.py:319: FutureWarning: The parameter 'presort' is deprecated and has no effect. It will be removed in v0.24. You can suppress this warning by not passing any value to the 'presort' parameter.\n",
      "  FutureWarning)\n",
      "/usr/local/lib/python3.6/dist-packages/sklearn/tree/_classes.py:319: FutureWarning: The parameter 'presort' is deprecated and has no effect. It will be removed in v0.24. You can suppress this warning by not passing any value to the 'presort' parameter.\n",
      "  FutureWarning)\n",
      "/usr/local/lib/python3.6/dist-packages/sklearn/tree/_classes.py:319: FutureWarning: The parameter 'presort' is deprecated and has no effect. It will be removed in v0.24. You can suppress this warning by not passing any value to the 'presort' parameter.\n",
      "  FutureWarning)\n",
      "/usr/local/lib/python3.6/dist-packages/sklearn/tree/_classes.py:319: FutureWarning: The parameter 'presort' is deprecated and has no effect. It will be removed in v0.24. You can suppress this warning by not passing any value to the 'presort' parameter.\n",
      "  FutureWarning)\n",
      "/usr/local/lib/python3.6/dist-packages/sklearn/tree/_classes.py:319: FutureWarning: The parameter 'presort' is deprecated and has no effect. It will be removed in v0.24. You can suppress this warning by not passing any value to the 'presort' parameter.\n",
      "  FutureWarning)\n",
      "/usr/local/lib/python3.6/dist-packages/sklearn/tree/_classes.py:319: FutureWarning: The parameter 'presort' is deprecated and has no effect. It will be removed in v0.24. You can suppress this warning by not passing any value to the 'presort' parameter.\n",
      "  FutureWarning)\n",
      "/usr/local/lib/python3.6/dist-packages/sklearn/tree/_classes.py:319: FutureWarning: The parameter 'presort' is deprecated and has no effect. It will be removed in v0.24. You can suppress this warning by not passing any value to the 'presort' parameter.\n",
      "  FutureWarning)\n",
      "/usr/local/lib/python3.6/dist-packages/sklearn/tree/_classes.py:319: FutureWarning: The parameter 'presort' is deprecated and has no effect. It will be removed in v0.24. You can suppress this warning by not passing any value to the 'presort' parameter.\n",
      "  FutureWarning)\n",
      "/usr/local/lib/python3.6/dist-packages/sklearn/tree/_classes.py:319: FutureWarning: The parameter 'presort' is deprecated and has no effect. It will be removed in v0.24. You can suppress this warning by not passing any value to the 'presort' parameter.\n",
      "  FutureWarning)\n",
      "/usr/local/lib/python3.6/dist-packages/sklearn/tree/_classes.py:319: FutureWarning: The parameter 'presort' is deprecated and has no effect. It will be removed in v0.24. You can suppress this warning by not passing any value to the 'presort' parameter.\n",
      "  FutureWarning)\n",
      "/usr/local/lib/python3.6/dist-packages/sklearn/tree/_classes.py:319: FutureWarning: The parameter 'presort' is deprecated and has no effect. It will be removed in v0.24. You can suppress this warning by not passing any value to the 'presort' parameter.\n",
      "  FutureWarning)\n",
      "/usr/local/lib/python3.6/dist-packages/sklearn/tree/_classes.py:319: FutureWarning: The parameter 'presort' is deprecated and has no effect. It will be removed in v0.24. You can suppress this warning by not passing any value to the 'presort' parameter.\n",
      "  FutureWarning)\n",
      "/usr/local/lib/python3.6/dist-packages/sklearn/tree/_classes.py:319: FutureWarning: The parameter 'presort' is deprecated and has no effect. It will be removed in v0.24. You can suppress this warning by not passing any value to the 'presort' parameter.\n",
      "  FutureWarning)\n",
      "/usr/local/lib/python3.6/dist-packages/sklearn/tree/_classes.py:319: FutureWarning: The parameter 'presort' is deprecated and has no effect. It will be removed in v0.24. You can suppress this warning by not passing any value to the 'presort' parameter.\n",
      "  FutureWarning)\n",
      "/usr/local/lib/python3.6/dist-packages/sklearn/tree/_classes.py:319: FutureWarning: The parameter 'presort' is deprecated and has no effect. It will be removed in v0.24. You can suppress this warning by not passing any value to the 'presort' parameter.\n",
      "  FutureWarning)\n",
      "/usr/local/lib/python3.6/dist-packages/sklearn/tree/_classes.py:319: FutureWarning: The parameter 'presort' is deprecated and has no effect. It will be removed in v0.24. You can suppress this warning by not passing any value to the 'presort' parameter.\n",
      "  FutureWarning)\n",
      "/usr/local/lib/python3.6/dist-packages/sklearn/tree/_classes.py:319: FutureWarning: The parameter 'presort' is deprecated and has no effect. It will be removed in v0.24. You can suppress this warning by not passing any value to the 'presort' parameter.\n",
      "  FutureWarning)\n",
      "/usr/local/lib/python3.6/dist-packages/sklearn/tree/_classes.py:319: FutureWarning: The parameter 'presort' is deprecated and has no effect. It will be removed in v0.24. You can suppress this warning by not passing any value to the 'presort' parameter.\n",
      "  FutureWarning)\n",
      "/usr/local/lib/python3.6/dist-packages/sklearn/tree/_classes.py:319: FutureWarning: The parameter 'presort' is deprecated and has no effect. It will be removed in v0.24. You can suppress this warning by not passing any value to the 'presort' parameter.\n",
      "  FutureWarning)\n",
      "/usr/local/lib/python3.6/dist-packages/sklearn/tree/_classes.py:319: FutureWarning: The parameter 'presort' is deprecated and has no effect. It will be removed in v0.24. You can suppress this warning by not passing any value to the 'presort' parameter.\n",
      "  FutureWarning)\n",
      "/usr/local/lib/python3.6/dist-packages/sklearn/tree/_classes.py:319: FutureWarning: The parameter 'presort' is deprecated and has no effect. It will be removed in v0.24. You can suppress this warning by not passing any value to the 'presort' parameter.\n",
      "  FutureWarning)\n",
      "/usr/local/lib/python3.6/dist-packages/sklearn/tree/_classes.py:319: FutureWarning: The parameter 'presort' is deprecated and has no effect. It will be removed in v0.24. You can suppress this warning by not passing any value to the 'presort' parameter.\n",
      "  FutureWarning)\n",
      "/usr/local/lib/python3.6/dist-packages/sklearn/tree/_classes.py:319: FutureWarning: The parameter 'presort' is deprecated and has no effect. It will be removed in v0.24. You can suppress this warning by not passing any value to the 'presort' parameter.\n",
      "  FutureWarning)\n",
      "/usr/local/lib/python3.6/dist-packages/sklearn/tree/_classes.py:319: FutureWarning: The parameter 'presort' is deprecated and has no effect. It will be removed in v0.24. You can suppress this warning by not passing any value to the 'presort' parameter.\n",
      "  FutureWarning)\n",
      "/usr/local/lib/python3.6/dist-packages/sklearn/tree/_classes.py:319: FutureWarning: The parameter 'presort' is deprecated and has no effect. It will be removed in v0.24. You can suppress this warning by not passing any value to the 'presort' parameter.\n",
      "  FutureWarning)\n",
      "/usr/local/lib/python3.6/dist-packages/sklearn/tree/_classes.py:319: FutureWarning: The parameter 'presort' is deprecated and has no effect. It will be removed in v0.24. You can suppress this warning by not passing any value to the 'presort' parameter.\n",
      "  FutureWarning)\n",
      "/usr/local/lib/python3.6/dist-packages/sklearn/tree/_classes.py:319: FutureWarning: The parameter 'presort' is deprecated and has no effect. It will be removed in v0.24. You can suppress this warning by not passing any value to the 'presort' parameter.\n",
      "  FutureWarning)\n",
      "/usr/local/lib/python3.6/dist-packages/sklearn/tree/_classes.py:319: FutureWarning: The parameter 'presort' is deprecated and has no effect. It will be removed in v0.24. You can suppress this warning by not passing any value to the 'presort' parameter.\n",
      "  FutureWarning)\n",
      "/usr/local/lib/python3.6/dist-packages/sklearn/tree/_classes.py:319: FutureWarning: The parameter 'presort' is deprecated and has no effect. It will be removed in v0.24. You can suppress this warning by not passing any value to the 'presort' parameter.\n",
      "  FutureWarning)\n",
      "/usr/local/lib/python3.6/dist-packages/sklearn/tree/_classes.py:319: FutureWarning: The parameter 'presort' is deprecated and has no effect. It will be removed in v0.24. You can suppress this warning by not passing any value to the 'presort' parameter.\n",
      "  FutureWarning)\n",
      "/usr/local/lib/python3.6/dist-packages/sklearn/tree/_classes.py:319: FutureWarning: The parameter 'presort' is deprecated and has no effect. It will be removed in v0.24. You can suppress this warning by not passing any value to the 'presort' parameter.\n",
      "  FutureWarning)\n",
      "/usr/local/lib/python3.6/dist-packages/sklearn/tree/_classes.py:319: FutureWarning: The parameter 'presort' is deprecated and has no effect. It will be removed in v0.24. You can suppress this warning by not passing any value to the 'presort' parameter.\n",
      "  FutureWarning)\n",
      "/usr/local/lib/python3.6/dist-packages/sklearn/tree/_classes.py:319: FutureWarning: The parameter 'presort' is deprecated and has no effect. It will be removed in v0.24. You can suppress this warning by not passing any value to the 'presort' parameter.\n",
      "  FutureWarning)\n",
      "/usr/local/lib/python3.6/dist-packages/sklearn/tree/_classes.py:319: FutureWarning: The parameter 'presort' is deprecated and has no effect. It will be removed in v0.24. You can suppress this warning by not passing any value to the 'presort' parameter.\n",
      "  FutureWarning)\n",
      "/usr/local/lib/python3.6/dist-packages/sklearn/tree/_classes.py:319: FutureWarning: The parameter 'presort' is deprecated and has no effect. It will be removed in v0.24. You can suppress this warning by not passing any value to the 'presort' parameter.\n",
      "  FutureWarning)\n",
      "/usr/local/lib/python3.6/dist-packages/sklearn/tree/_classes.py:319: FutureWarning: The parameter 'presort' is deprecated and has no effect. It will be removed in v0.24. You can suppress this warning by not passing any value to the 'presort' parameter.\n",
      "  FutureWarning)\n",
      "/usr/local/lib/python3.6/dist-packages/sklearn/tree/_classes.py:319: FutureWarning: The parameter 'presort' is deprecated and has no effect. It will be removed in v0.24. You can suppress this warning by not passing any value to the 'presort' parameter.\n",
      "  FutureWarning)\n",
      "/usr/local/lib/python3.6/dist-packages/sklearn/tree/_classes.py:319: FutureWarning: The parameter 'presort' is deprecated and has no effect. It will be removed in v0.24. You can suppress this warning by not passing any value to the 'presort' parameter.\n",
      "  FutureWarning)\n",
      "/usr/local/lib/python3.6/dist-packages/sklearn/tree/_classes.py:319: FutureWarning: The parameter 'presort' is deprecated and has no effect. It will be removed in v0.24. You can suppress this warning by not passing any value to the 'presort' parameter.\n",
      "  FutureWarning)\n",
      "/usr/local/lib/python3.6/dist-packages/sklearn/tree/_classes.py:319: FutureWarning: The parameter 'presort' is deprecated and has no effect. It will be removed in v0.24. You can suppress this warning by not passing any value to the 'presort' parameter.\n",
      "  FutureWarning)\n",
      "/usr/local/lib/python3.6/dist-packages/sklearn/tree/_classes.py:319: FutureWarning: The parameter 'presort' is deprecated and has no effect. It will be removed in v0.24. You can suppress this warning by not passing any value to the 'presort' parameter.\n",
      "  FutureWarning)\n",
      "/usr/local/lib/python3.6/dist-packages/sklearn/tree/_classes.py:319: FutureWarning: The parameter 'presort' is deprecated and has no effect. It will be removed in v0.24. You can suppress this warning by not passing any value to the 'presort' parameter.\n",
      "  FutureWarning)\n",
      "/usr/local/lib/python3.6/dist-packages/sklearn/tree/_classes.py:319: FutureWarning: The parameter 'presort' is deprecated and has no effect. It will be removed in v0.24. You can suppress this warning by not passing any value to the 'presort' parameter.\n",
      "  FutureWarning)\n",
      "/usr/local/lib/python3.6/dist-packages/sklearn/tree/_classes.py:319: FutureWarning: The parameter 'presort' is deprecated and has no effect. It will be removed in v0.24. You can suppress this warning by not passing any value to the 'presort' parameter.\n",
      "  FutureWarning)\n"
     ]
    },
    {
     "name": "stdout",
     "output_type": "stream",
     "text": [
      "\n",
      " Computation:  157.83321022987366\n"
     ]
    }
   ],
   "source": [
    "p1 = time.time()\n",
    "\n",
    "rfqr = RandomForestQuantileRegressor(min_samples_split=10, n_estimators=200, n_jobs =-1, max_depth =6,\n",
    "                                     criterion = 'mse')\n",
    "rfqr.fit(X_train.numpy(), Y_train.numpy())\n",
    "\n",
    "print('\\n Computation: ', time.time() - p1)"
   ]
  },
  {
   "cell_type": "code",
   "execution_count": 22,
   "metadata": {
    "colab": {
     "base_uri": "https://localhost:8080/",
     "height": 441
    },
    "colab_type": "code",
    "id": "p_JaER1t7SgI",
    "outputId": "f2317b99-ea0d-48cf-d18b-639c412aefbe"
   },
   "outputs": [
    {
     "name": "stdout",
     "output_type": "stream",
     "text": [
      "NRMSE out-sample VaR:  1.2975874757322543\n",
      "CPU times: user 8min 30s, sys: 3.62 s, total: 8min 33s\n",
      "Wall time: 8min 34s\n"
     ]
    },
    {
     "data": {
      "image/png": "[encoded data removed]",
      "text/plain": [
       "<Figure size 576x432 with 1 Axes>"
      ]
     },
     "metadata": {
      "needs_background": "light",
      "tags": []
     },
     "output_type": "display_data"
    }
   ],
   "source": [
    "%%time\n",
    "Var_pre = rfqr.predict(X_test[:10000].numpy(), quantile=97.5)\n",
    "plot_function_numpy(Var_pre, true_VaR_test[:10000].numpy(), float(true_VaR_test.std()))"
   ]
  },
  {
   "cell_type": "markdown",
   "metadata": {
    "colab_type": "text",
    "id": "-jnUk0YKdXMs"
   },
   "source": [
    "### Sklearn Gradient Boosting"
   ]
  },
  {
   "cell_type": "code",
   "execution_count": 0,
   "metadata": {
    "colab": {},
    "colab_type": "code",
    "id": "s_4HuXP31DRM"
   },
   "outputs": [],
   "source": [
    "gc.collect()\n",
    "from sklearn.ensemble import GradientBoostingRegressor\n",
    "\n",
    "skgb_quantile = GradientBoostingRegressor(loss='quantile', alpha=0.975,\n",
    "                n_estimators=300, max_depth=6,\n",
    "                learning_rate=0.1, min_samples_leaf=10,\n",
    "                min_samples_split=10,verbose=20)"
   ]
  },
  {
   "cell_type": "code",
   "execution_count": 24,
   "metadata": {
    "colab": {
     "base_uri": "https://localhost:8080/",
     "height": 1000
    },
    "colab_type": "code",
    "id": "d6q7fm9gtuLi",
    "outputId": "5d3ab252-766c-437b-c58b-4d68d724e562"
   },
   "outputs": [
    {
     "name": "stdout",
     "output_type": "stream",
     "text": [
      "      Iter       Train Loss   Remaining Time \n",
      "         1           3.4246            9.49m\n",
      "         2           3.4131            9.37m\n",
      "         3           3.4035            9.35m\n",
      "         4           3.3894            9.28m\n",
      "         5           3.3758            9.22m\n",
      "         6           3.3653            9.19m\n",
      "         7           3.3527            9.14m\n",
      "         8           3.3386            9.09m\n",
      "         9           3.3305            9.06m\n",
      "        10           3.3211            9.03m\n",
      "        11           3.3129            9.01m\n",
      "        12           3.3035            8.97m\n",
      "        13           3.2900            8.94m\n",
      "        14           3.2793            8.90m\n",
      "        15           3.2728            8.88m\n",
      "        16           3.2665            8.85m\n",
      "        17           3.2579            8.81m\n",
      "        18           3.2536            8.79m\n",
      "        19           3.2451            8.76m\n",
      "        20           3.2380            8.72m\n",
      "        21           3.2324            8.69m\n",
      "        22           3.2247            8.65m\n",
      "        23           3.2143            8.62m\n",
      "        24           3.2053            8.58m\n",
      "        25           3.1955            8.55m\n",
      "        26           3.1856            8.52m\n",
      "        27           3.1748            8.48m\n",
      "        28           3.1692            8.46m\n",
      "        29           3.1638            8.43m\n",
      "        30           3.1551            8.40m\n",
      "        31           3.1506            8.37m\n",
      "        32           3.1407            8.34m\n",
      "        33           3.1340            8.30m\n",
      "        34           3.1309            8.28m\n",
      "        35           3.1224            8.25m\n",
      "        36           3.1189            8.22m\n",
      "        37           3.1124            8.19m\n",
      "        38           3.1069            8.16m\n",
      "        39           3.1010            8.13m\n",
      "        40           3.0928            8.09m\n",
      "        41           3.0848            8.06m\n",
      "        42           3.0786            8.03m\n",
      "        43           3.0736            8.00m\n",
      "        44           3.0707            7.97m\n",
      "        45           3.0665            7.94m\n",
      "        46           3.0618            7.91m\n",
      "        47           3.0553            7.87m\n",
      "        48           3.0433            7.84m\n",
      "        49           3.0381            7.80m\n",
      "        50           3.0293            7.77m\n",
      "        51           3.0271            7.74m\n",
      "        52           3.0223            7.71m\n",
      "        53           3.0153            7.67m\n",
      "        54           3.0081            7.64m\n",
      "        55           3.0058            7.61m\n",
      "        56           2.9978            7.58m\n",
      "        57           2.9956            7.55m\n",
      "        58           2.9909            7.52m\n",
      "        59           2.9802            7.49m\n",
      "        60           2.9776            7.46m\n",
      "        61           2.9718            7.43m\n",
      "        62           2.9691            7.40m\n",
      "        63           2.9610            7.36m\n",
      "        64           2.9570            7.33m\n",
      "        65           2.9443            7.29m\n",
      "        66           2.9388            7.26m\n",
      "        67           2.9337            7.23m\n",
      "        68           2.9285            7.20m\n",
      "        69           2.9245            7.17m\n",
      "        70           2.9217            7.14m\n",
      "        71           2.9182            7.11m\n",
      "        72           2.9129            7.07m\n",
      "        73           2.9070            7.04m\n",
      "        74           2.9040            7.01m\n",
      "        75           2.8990            6.98m\n",
      "        76           2.8936            6.95m\n",
      "        77           2.8884            6.92m\n",
      "        78           2.8850            6.89m\n",
      "        79           2.8833            6.86m\n",
      "        80           2.8801            6.83m\n",
      "        81           2.8779            6.80m\n",
      "        82           2.8735            6.77m\n",
      "        83           2.8705            6.74m\n",
      "        84           2.8672            6.71m\n",
      "        85           2.8629            6.67m\n",
      "        86           2.8615            6.64m\n",
      "        87           2.8594            6.61m\n",
      "        88           2.8558            6.58m\n",
      "        89           2.8542            6.55m\n",
      "        90           2.8505            6.52m\n",
      "        91           2.8481            6.49m\n",
      "        92           2.8467            6.46m\n",
      "        93           2.8428            6.43m\n",
      "        94           2.8412            6.40m\n",
      "        95           2.8370            6.37m\n",
      "        96           2.8348            6.34m\n",
      "        97           2.8339            6.30m\n",
      "        98           2.8294            6.27m\n",
      "        99           2.8285            6.24m\n",
      "       100           2.8254            6.21m\n",
      "       101           2.8246            6.18m\n",
      "       102           2.8223            6.15m\n",
      "       103           2.8219            6.12m\n",
      "       104           2.8200            6.09m\n",
      "       105           2.8185            6.06m\n",
      "       106           2.8179            6.03m\n",
      "       107           2.8165            6.00m\n",
      "       108           2.8156            5.97m\n",
      "       109           2.8151            5.94m\n",
      "       110           2.8113            5.91m\n",
      "       111           2.8100            5.88m\n",
      "       112           2.8081            5.85m\n",
      "       113           2.8068            5.82m\n",
      "       114           2.8054            5.79m\n",
      "       115           2.8040            5.76m\n",
      "       116           2.8012            5.73m\n",
      "       117           2.7974            5.70m\n",
      "       118           2.7934            5.66m\n",
      "       119           2.7910            5.63m\n",
      "       120           2.7887            5.60m\n",
      "       121           2.7877            5.57m\n",
      "       122           2.7863            5.54m\n",
      "       123           2.7830            5.51m\n",
      "       124           2.7796            5.48m\n",
      "       125           2.7786            5.45m\n",
      "       126           2.7761            5.41m\n",
      "       127           2.7728            5.38m\n",
      "       128           2.7696            5.35m\n",
      "       129           2.7683            5.32m\n",
      "       130           2.7656            5.29m\n",
      "       131           2.7625            5.26m\n",
      "       132           2.7570            5.22m\n",
      "       133           2.7541            5.19m\n",
      "       134           2.7496            5.16m\n",
      "       135           2.7471            5.13m\n",
      "       136           2.7463            5.10m\n",
      "       137           2.7412            5.07m\n",
      "       138           2.7389            5.04m\n",
      "       139           2.7354            5.01m\n",
      "       140           2.7325            4.97m\n",
      "       141           2.7309            4.94m\n",
      "       142           2.7289            4.91m\n",
      "       143           2.7263            4.88m\n",
      "       144           2.7256            4.85m\n",
      "       145           2.7244            4.82m\n",
      "       146           2.7215            4.79m\n",
      "       147           2.7199            4.76m\n",
      "       148           2.7167            4.73m\n",
      "       149           2.7141            4.70m\n",
      "       150           2.7119            4.67m\n",
      "       151           2.7099            4.64m\n",
      "       152           2.7052            4.61m\n",
      "       153           2.7041            4.57m\n",
      "       154           2.7029            4.54m\n",
      "       155           2.7015            4.51m\n",
      "       156           2.6993            4.48m\n",
      "       157           2.6971            4.45m\n",
      "       158           2.6964            4.42m\n",
      "       159           2.6952            4.39m\n",
      "       160           2.6924            4.36m\n",
      "       161           2.6905            4.33m\n",
      "       162           2.6895            4.30m\n",
      "       163           2.6883            4.27m\n",
      "       164           2.6860            4.24m\n",
      "       165           2.6850            4.21m\n",
      "       166           2.6835            4.17m\n",
      "       167           2.6823            4.14m\n",
      "       168           2.6814            4.11m\n",
      "       169           2.6808            4.08m\n",
      "       170           2.6796            4.05m\n",
      "       171           2.6791            4.02m\n",
      "       172           2.6777            3.99m\n",
      "       173           2.6760            3.96m\n",
      "       174           2.6757            3.93m\n",
      "       175           2.6753            3.90m\n",
      "       176           2.6747            3.87m\n",
      "       177           2.6740            3.83m\n",
      "       178           2.6726            3.80m\n",
      "       179           2.6718            3.77m\n",
      "       180           2.6714            3.74m\n",
      "       181           2.6711            3.71m\n",
      "       182           2.6707            3.68m\n",
      "       183           2.6700            3.65m\n",
      "       184           2.6697            3.62m\n",
      "       185           2.6696            3.59m\n",
      "       186           2.6684            3.56m\n",
      "       187           2.6671            3.53m\n",
      "       188           2.6662            3.49m\n",
      "       189           2.6655            3.46m\n",
      "       190           2.6655            3.43m\n",
      "       191           2.6652            3.40m\n",
      "       192           2.6649            3.37m\n",
      "       193           2.6643            3.34m\n",
      "       194           2.6642            3.31m\n",
      "       195           2.6640            3.28m\n",
      "       196           2.6636            3.25m\n",
      "       197           2.6633            3.22m\n",
      "       198           2.6627            3.19m\n",
      "       199           2.6627            3.16m\n",
      "       200           2.6618            3.12m\n",
      "       201           2.6610            3.09m\n",
      "       202           2.6606            3.06m\n",
      "       203           2.6599            3.03m\n",
      "       204           2.6596            3.00m\n",
      "       205           2.6590            2.97m\n",
      "       206           2.6587            2.94m\n",
      "       207           2.6587            2.91m\n",
      "       208           2.6584            2.88m\n",
      "       209           2.6583            2.85m\n",
      "       210           2.6577            2.81m\n",
      "       211           2.6575            2.78m\n",
      "       212           2.6573            2.75m\n",
      "       213           2.6572            2.72m\n",
      "       214           2.6566            2.69m\n",
      "       215           2.6560            2.66m\n",
      "       216           2.6553            2.63m\n",
      "       217           2.6543            2.60m\n",
      "       218           2.6536            2.56m\n",
      "       219           2.6530            2.53m\n",
      "       220           2.6517            2.50m\n",
      "       221           2.6510            2.47m\n",
      "       222           2.6490            2.44m\n",
      "       223           2.6480            2.41m\n",
      "       224           2.6458            2.38m\n",
      "       225           2.6448            2.35m\n",
      "       226           2.6433            2.31m\n",
      "       227           2.6431            2.28m\n",
      "       228           2.6428            2.25m\n",
      "       229           2.6407            2.22m\n",
      "       230           2.6387            2.19m\n",
      "       231           2.6374            2.16m\n",
      "       232           2.6302            2.13m\n",
      "       233           2.6290            2.10m\n",
      "       234           2.6279            2.06m\n",
      "       235           2.6270            2.03m\n",
      "       236           2.6242            2.00m\n",
      "       237           2.6226            1.97m\n",
      "       238           2.6213            1.94m\n",
      "       239           2.6195            1.91m\n",
      "       240           2.6175            1.88m\n",
      "       241           2.6141            1.85m\n",
      "       242           2.6126            1.81m\n",
      "       243           2.6105            1.78m\n",
      "       244           2.6086            1.75m\n",
      "       245           2.6060            1.72m\n",
      "       246           2.6038            1.69m\n",
      "       247           2.6014            1.66m\n",
      "       248           2.6003            1.63m\n",
      "       249           2.5980            1.59m\n",
      "       250           2.5953            1.56m\n",
      "       251           2.5935            1.53m\n",
      "       252           2.5921            1.50m\n",
      "       253           2.5903            1.47m\n",
      "       254           2.5896            1.44m\n",
      "       255           2.5886            1.41m\n",
      "       256           2.5876            1.38m\n",
      "       257           2.5861            1.34m\n",
      "       258           2.5849            1.31m\n",
      "       259           2.5841            1.28m\n",
      "       260           2.5829            1.25m\n",
      "       261           2.5820            1.22m\n",
      "       262           2.5812            1.19m\n",
      "       263           2.5802            1.16m\n",
      "       264           2.5779            1.12m\n",
      "       265           2.5754            1.09m\n",
      "       266           2.5740            1.06m\n",
      "       267           2.5734            1.03m\n",
      "       268           2.5722           59.99s\n",
      "       269           2.5704           58.11s\n",
      "       270           2.5683           56.23s\n",
      "       271           2.5671           54.36s\n",
      "       272           2.5653           52.49s\n",
      "       273           2.5631           50.62s\n",
      "       274           2.5606           48.75s\n",
      "       275           2.5597           46.87s\n",
      "       276           2.5584           45.00s\n",
      "       277           2.5569           43.13s\n",
      "       278           2.5545           41.25s\n",
      "       279           2.5524           39.37s\n",
      "       280           2.5513           37.50s\n",
      "       281           2.5508           35.63s\n",
      "       282           2.5479           33.75s\n",
      "       283           2.5465           31.87s\n",
      "       284           2.5453           30.00s\n",
      "       285           2.5432           28.12s\n",
      "       286           2.5424           26.25s\n",
      "       287           2.5419           24.37s\n",
      "       288           2.5405           22.50s\n",
      "       289           2.5367           20.62s\n",
      "       290           2.5356           18.75s\n",
      "       291           2.5348           16.87s\n",
      "       292           2.5333           15.00s\n",
      "       293           2.5322           13.12s\n",
      "       294           2.5310           11.25s\n",
      "       295           2.5300            9.37s\n",
      "       296           2.5266            7.50s\n",
      "       297           2.5250            5.62s\n",
      "       298           2.5234            3.75s\n",
      "       299           2.5216            1.87s\n",
      "       300           2.5209            0.00s\n",
      "\n",
      " ES Computation:  562.3253214359283\n"
     ]
    }
   ],
   "source": [
    "p1 = time.time()\n",
    "skgb_quantile.fit(X_train.numpy(), Y_train.numpy().ravel())\n",
    "Var_pre = skgb_quantile.predict(X_test[:10000].numpy())\n",
    "\n",
    "print('\\n ES Computation: ', time.time() - p1)"
   ]
  },
  {
   "cell_type": "code",
   "execution_count": 25,
   "metadata": {
    "colab": {
     "base_uri": "https://localhost:8080/",
     "height": 407
    },
    "colab_type": "code",
    "id": "KdeqfQ0gt-Kn",
    "outputId": "4e065f56-4da5-44ea-96d8-ae651542004f"
   },
   "outputs": [
    {
     "name": "stdout",
     "output_type": "stream",
     "text": [
      "NRMSE out-sample VaR:  1.1485205277303836\n"
     ]
    },
    {
     "data": {
      "image/png": "[encoded data removed]",
      "text/plain": [
       "<Figure size 576x432 with 1 Axes>"
      ]
     },
     "metadata": {
      "needs_background": "light",
      "tags": []
     },
     "output_type": "display_data"
    }
   ],
   "source": [
    "plot_function_numpy(Var_pre, true_VaR_test[:10000].numpy(), float(true_VaR_test.std()))"
   ]
  },
  {
   "cell_type": "markdown",
   "metadata": {
    "colab_type": "text",
    "id": "iQazbixGeYou"
   },
   "source": [
    "### Lightgbm"
   ]
  },
  {
   "cell_type": "code",
   "execution_count": 0,
   "metadata": {
    "colab": {},
    "colab_type": "code",
    "id": "bINRuKhGdkm9"
   },
   "outputs": [],
   "source": [
    "gc.collect()\n",
    "import lightgbm as lgb\n",
    "\n",
    "lgbm_quantile = lgb.LGBMRegressor(objective = 'quantile',\n",
    "                            alpha = 0.975,\n",
    "                            num_leaves = 10,\n",
    "                            learning_rate = 0.1,\n",
    "                            n_estimators = 1000,\n",
    "                            max_depth = 6,\n",
    "                            min_data = 500,)"
   ]
  },
  {
   "cell_type": "code",
   "execution_count": 27,
   "metadata": {
    "colab": {
     "base_uri": "https://localhost:8080/",
     "height": 51
    },
    "colab_type": "code",
    "id": "ejN7QquKzYsj",
    "outputId": "f0dded16-33d2-4920-8ef1-700cb3bfb4c8"
   },
   "outputs": [
    {
     "name": "stdout",
     "output_type": "stream",
     "text": [
      "\n",
      " ES Computation:  8.989435911178589\n"
     ]
    }
   ],
   "source": [
    "p1 = time.time()\n",
    "lgbm_quantile.fit(X_train.numpy(), Y_train.numpy().ravel())\n",
    "Var_pre = lgbm_quantile.predict(X_test[:10000].numpy())\n",
    "print('\\n ES Computation: ', time.time() - p1)"
   ]
  },
  {
   "cell_type": "code",
   "execution_count": 28,
   "metadata": {
    "colab": {
     "base_uri": "https://localhost:8080/",
     "height": 407
    },
    "colab_type": "code",
    "id": "ME2JDbh1zb3G",
    "outputId": "3601d8eb-276d-4fae-8152-5f169f7626c3"
   },
   "outputs": [
    {
     "name": "stdout",
     "output_type": "stream",
     "text": [
      "NRMSE out-sample VaR:  1.1463634960322917\n"
     ]
    },
    {
     "data": {
      "image/png": "[encoded data removed]",
      "text/plain": [
       "<Figure size 576x432 with 1 Axes>"
      ]
     },
     "metadata": {
      "needs_background": "light",
      "tags": []
     },
     "output_type": "display_data"
    }
   ],
   "source": [
    "\n",
    "plot_function_numpy(Var_pre, true_VaR_test[:10000].numpy(), float(true_VaR_test.std()))"
   ]
  },
  {
   "cell_type": "markdown",
   "metadata": {
    "colab_type": "text",
    "id": "hB0lKKmFew7U"
   },
   "source": [
    "### Modified xgboost"
   ]
  },
  {
   "cell_type": "code",
   "execution_count": 0,
   "metadata": {
    "colab": {},
    "colab_type": "code",
    "id": "Lw_qa_VUfSZO"
   },
   "outputs": [],
   "source": [
    "gc.collect()\n",
    "from xgboost.sklearn import XGBRegressor\n",
    "#@title XGBQuantile Class\n",
    "class XGBQuantile(XGBRegressor):\n",
    "  def __init__(self,quant_alpha=0.95,quant_delta = 1.0,quant_thres=1.0,quant_var =1.0,base_score=0.5, booster='gbtree', colsample_bylevel=1,\n",
    "                colsample_bytree=1, gamma=0, learning_rate=0.1, max_delta_step=0,max_depth=3, min_child_weight=1, missing=None, n_estimators=100,\n",
    "                n_jobs=1, nthread=None, objective='reg:linear', random_state=0,reg_alpha=0, reg_lambda=1, scale_pos_weight=1, seed=None,silent=True, subsample=1):\n",
    "    self.quant_alpha = quant_alpha\n",
    "    self.quant_delta = quant_delta\n",
    "    self.quant_thres = quant_thres\n",
    "    self.quant_var = quant_var\n",
    "    \n",
    "    super().__init__(base_score=base_score, booster=booster, colsample_bylevel=colsample_bylevel,\n",
    "       colsample_bytree=colsample_bytree, gamma=gamma, learning_rate=learning_rate, max_delta_step=max_delta_step,\n",
    "       max_depth=max_depth, min_child_weight=min_child_weight, missing=missing, n_estimators=n_estimators,\n",
    "       n_jobs= n_jobs, nthread=nthread, objective=objective, random_state=random_state,\n",
    "       reg_alpha=reg_alpha, reg_lambda=reg_lambda, scale_pos_weight=scale_pos_weight, seed=seed,\n",
    "       silent=silent, subsample=subsample)\n",
    "    \n",
    "    self.test = None\n",
    "  \n",
    "  def fit(self, X, y):\n",
    "    super().set_params(objective=partial(XGBQuantile.quantile_loss,alpha = self.quant_alpha,delta = self.quant_delta,threshold = self.quant_thres,var = self.quant_var) )\n",
    "    super().fit(X,y)\n",
    "    return self\n",
    "  \n",
    "  def predict(self,X):\n",
    "    return super().predict(X)\n",
    "  \n",
    "  def score(self, X, y):\n",
    "    y_pred = super().predict(X)\n",
    "    score = XGBQuantile.quantile_score(y, y_pred, self.quant_alpha)\n",
    "    score = 1./score\n",
    "    return score\n",
    "      \n",
    "  @staticmethod\n",
    "  def quantile_loss(y_true,y_pred,alpha,delta,threshold,var):\n",
    "    x = y_true - y_pred\n",
    "    grad = (x<(alpha-1.0)*delta)*(1.0-alpha)-  ((x>=(alpha-1.0)*delta)& (x<alpha*delta) )*x/delta-alpha*(x>alpha*delta)\n",
    "    hess = ((x>=(alpha-1.0)*delta)& (x<alpha*delta) )/delta \n",
    " \n",
    "    grad = (np.abs(x)<threshold )*grad - (np.abs(x)>=threshold )*(2*np.random.randint(2, size=len(y_true)) -1.0)*var\n",
    "    hess = (np.abs(x)<threshold )*hess + (np.abs(x)>=threshold )\n",
    "    return grad, hess\n",
    "  \n",
    "  @staticmethod\n",
    "  def original_quantile_loss(y_true,y_pred,alpha,delta):\n",
    "    x = y_true - y_pred\n",
    "    grad = (x<(alpha-1.0)*delta)*(1.0-alpha)-((x>=(alpha-1.0)*delta)& (x<alpha*delta) )*x/delta-alpha*(x>alpha*delta)\n",
    "    hess = ((x>=(alpha-1.0)*delta)& (x<alpha*delta) )/delta \n",
    "    return grad,hess\n",
    "\n",
    "  \n",
    "  @staticmethod\n",
    "  def quantile_score(y_true, y_pred, alpha):\n",
    "    score = XGBQuantile.quantile_cost(x=y_true-y_pred,alpha=alpha)\n",
    "    score = np.sum(score)\n",
    "    return score\n",
    "  \n",
    "  @staticmethod\n",
    "  def quantile_cost(x, alpha):\n",
    "    return (alpha-1.0)*x*(x<0)+alpha*x*(x>=0)\n",
    "  \n",
    "  @staticmethod\n",
    "  def get_split_gain(gradient,hessian,l=1):\n",
    "    split_gain = list()\n",
    "    for i in range(gradient.shape[0]):\n",
    "      split_gain.append(np.sum(gradient[:i])/(np.sum(hessian[:i])+l)+np.sum(gradient[i:])/(np.sum(hessian[i:])+l)-np.sum(gradient)/(np.sum(hessian)+l) )\n",
    "    \n",
    "    return np.array(split_gain)\n",
    "\n",
    "    \n",
    " "
   ]
  },
  {
   "cell_type": "code",
   "execution_count": 30,
   "metadata": {
    "colab": {
     "base_uri": "https://localhost:8080/",
     "height": 88
    },
    "colab_type": "code",
    "id": "mDtnEi_juHcb",
    "outputId": "54f099eb-45c4-4b18-e271-7cce5a6cd1b0"
   },
   "outputs": [
    {
     "name": "stdout",
     "output_type": "stream",
     "text": [
      "[12:15:16] WARNING: /workspace/src/objective/regression_obj.cu:152: reg:linear is now deprecated in favor of reg:squarederror.\n",
      "\n",
      " Computation:  115.95409274101257\n"
     ]
    }
   ],
   "source": [
    "p1 = time.time()\n",
    "xgb_quantile = XGBRegressor(n_estimators=300,max_depth=8,reg_alpha=5, reg_lambda=1,gamma=0.5,\n",
    "                         quant_alpha=0.975)\n",
    "xgb_quantile.fit(X_train.numpy(), Y_train.numpy().ravel())\n",
    "\n",
    "print('\\n Computation: ', time.time() - p1)"
   ]
  },
  {
   "cell_type": "code",
   "execution_count": 31,
   "metadata": {
    "colab": {
     "base_uri": "https://localhost:8080/",
     "height": 407
    },
    "colab_type": "code",
    "id": "8C9BtkNjgoS2",
    "outputId": "707ba27a-544a-4298-fedd-9932123cffb2"
   },
   "outputs": [
    {
     "name": "stdout",
     "output_type": "stream",
     "text": [
      "NRMSE out-sample VaR:  1.4361190146823026\n"
     ]
    },
    {
     "data": {
      "image/png": "[encoded data removed]",
      "text/plain": [
       "<Figure size 576x432 with 1 Axes>"
      ]
     },
     "metadata": {
      "needs_background": "light",
      "tags": []
     },
     "output_type": "display_data"
    }
   ],
   "source": [
    "Var_pre = xgb_quantile.predict(X_test[0:10000].numpy())\n",
    "plot_function_numpy(Var_pre, true_VaR_test[0:10000].numpy(), float(true_VaR_test.std()))"
   ]
  }
 ],
 "metadata": {
  "accelerator": "GPU",
  "colab": {
   "collapsed_sections": [],
   "include_colab_link": true,
   "name": "Quantile_regression_tree_based_test.ipynb",
   "provenance": [],
   "toc_visible": true
  },
  "kernelspec": {
   "display_name": "Python 3",
   "language": "python",
   "name": "python3"
  },
  "language_info": {
   "codemirror_mode": {
    "name": "ipython",
    "version": 3
   },
   "file_extension": ".py",
   "mimetype": "text/x-python",
   "name": "python",
   "nbconvert_exporter": "python",
   "pygments_lexer": "ipython3",
   "version": "3.7.3"
  },
  "latex_envs": {
   "LaTeX_envs_menu_present": true,
   "autoclose": false,
   "autocomplete": true,
   "bibliofile": "biblio.bib",
   "cite_by": "apalike",
   "current_citInitial": 1,
   "eqLabelWithNumbers": true,
   "eqNumInitial": 1,
   "hotkeys": {
    "equation": "Ctrl-E",
    "itemize": "Ctrl-I"
   },
   "labels_anchors": false,
   "latex_user_defs": false,
   "report_style_numbering": false,
   "user_envs_cfg": false
  }
 },
 "nbformat": 4,
 "nbformat_minor": 1
}
